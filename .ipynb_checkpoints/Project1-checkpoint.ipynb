{
 "cells": [
  {
   "cell_type": "code",
   "execution_count": 2,
   "metadata": {
    "tags": [
     "hide_code"
    ]
   },
   "outputs": [],
   "source": [
    "import pandas as pd\n",
    "import numpy as np\n",
    "import seaborn as sns\n",
    "import matplotlib.pyplot as plt"
   ]
  },
  {
   "cell_type": "code",
   "execution_count": 3,
   "metadata": {
    "tags": [
     "hide_code"
    ]
   },
   "outputs": [],
   "source": [
    "pd.set_option('display.max_columns', None) "
   ]
  },
  {
   "cell_type": "code",
   "execution_count": 4,
   "metadata": {},
   "outputs": [],
   "source": [
    "df = pd.read_csv('data/philosophy_data.csv')"
   ]
  },
  {
   "cell_type": "code",
   "execution_count": 11,
   "metadata": {},
   "outputs": [],
   "source": [
    "df.head()"
   ]
  },
  {
   "cell_type": "code",
   "execution_count": 5,
   "metadata": {},
   "outputs": [
    {
     "data": {
      "text/plain": [
       "title                        0\n",
       "author                       0\n",
       "school                       0\n",
       "sentence_spacy               0\n",
       "sentence_str                 0\n",
       "original_publication_date    0\n",
       "corpus_edition_date          0\n",
       "sentence_length              0\n",
       "sentence_lowered             0\n",
       "tokenized_txt                0\n",
       "lemmatized_str               0\n",
       "dtype: int64"
      ]
     },
     "execution_count": 5,
     "metadata": {},
     "output_type": "execute_result"
    }
   ],
   "source": [
    "df.isnull().sum()"
   ]
  },
  {
   "cell_type": "code",
   "execution_count": 6,
   "metadata": {},
   "outputs": [
    {
     "name": "stdout",
     "output_type": "stream",
     "text": [
      "<class 'pandas.core.frame.DataFrame'>\n",
      "RangeIndex: 360808 entries, 0 to 360807\n",
      "Data columns (total 11 columns):\n",
      " #   Column                     Non-Null Count   Dtype \n",
      "---  ------                     --------------   ----- \n",
      " 0   title                      360808 non-null  object\n",
      " 1   author                     360808 non-null  object\n",
      " 2   school                     360808 non-null  object\n",
      " 3   sentence_spacy             360808 non-null  object\n",
      " 4   sentence_str               360808 non-null  object\n",
      " 5   original_publication_date  360808 non-null  int64 \n",
      " 6   corpus_edition_date        360808 non-null  int64 \n",
      " 7   sentence_length            360808 non-null  int64 \n",
      " 8   sentence_lowered           360808 non-null  object\n",
      " 9   tokenized_txt              360808 non-null  object\n",
      " 10  lemmatized_str             360808 non-null  object\n",
      "dtypes: int64(3), object(8)\n",
      "memory usage: 30.3+ MB\n"
     ]
    }
   ],
   "source": [
    "df.info()"
   ]
  },
  {
   "cell_type": "code",
   "execution_count": 7,
   "metadata": {},
   "outputs": [
    {
     "data": {
      "text/html": [
       "<div>\n",
       "<style scoped>\n",
       "    .dataframe tbody tr th:only-of-type {\n",
       "        vertical-align: middle;\n",
       "    }\n",
       "\n",
       "    .dataframe tbody tr th {\n",
       "        vertical-align: top;\n",
       "    }\n",
       "\n",
       "    .dataframe thead th {\n",
       "        text-align: right;\n",
       "    }\n",
       "</style>\n",
       "<table border=\"1\" class=\"dataframe\">\n",
       "  <thead>\n",
       "    <tr style=\"text-align: right;\">\n",
       "      <th></th>\n",
       "      <th>title</th>\n",
       "      <th>author</th>\n",
       "      <th>school</th>\n",
       "      <th>sentence_spacy</th>\n",
       "      <th>sentence_str</th>\n",
       "      <th>original_publication_date</th>\n",
       "      <th>corpus_edition_date</th>\n",
       "      <th>sentence_length</th>\n",
       "      <th>sentence_lowered</th>\n",
       "      <th>tokenized_txt</th>\n",
       "      <th>lemmatized_str</th>\n",
       "    </tr>\n",
       "  </thead>\n",
       "  <tbody>\n",
       "    <tr>\n",
       "      <th>16153</th>\n",
       "      <td>Plato - Complete Works</td>\n",
       "      <td>Plato</td>\n",
       "      <td>plato</td>\n",
       "      <td>how does it seem to you?</td>\n",
       "      <td>how does it seem to you?</td>\n",
       "      <td>-350</td>\n",
       "      <td>1997</td>\n",
       "      <td>24</td>\n",
       "      <td>how does it seem to you?</td>\n",
       "      <td>['how', 'does', 'it', 'seem', 'to', 'you']</td>\n",
       "      <td>how do -PRON- seem to -PRON- ?</td>\n",
       "    </tr>\n",
       "    <tr>\n",
       "      <th>24096</th>\n",
       "      <td>Plato - Complete Works</td>\n",
       "      <td>Plato</td>\n",
       "      <td>plato</td>\n",
       "      <td>How does it seem to you?</td>\n",
       "      <td>How does it seem to you?</td>\n",
       "      <td>-350</td>\n",
       "      <td>1997</td>\n",
       "      <td>24</td>\n",
       "      <td>how does it seem to you?</td>\n",
       "      <td>['how', 'does', 'it', 'seem', 'to', 'you']</td>\n",
       "      <td>how do -PRON- seem to -PRON- ?</td>\n",
       "    </tr>\n",
       "    <tr>\n",
       "      <th>42066</th>\n",
       "      <td>Aristotle - Complete Works</td>\n",
       "      <td>Aristotle</td>\n",
       "      <td>aristotle</td>\n",
       "      <td>Why does it thunder?</td>\n",
       "      <td>Why does it thunder?</td>\n",
       "      <td>-320</td>\n",
       "      <td>1991</td>\n",
       "      <td>20</td>\n",
       "      <td>why does it thunder?</td>\n",
       "      <td>['why', 'does', 'it', 'thunder']</td>\n",
       "      <td>why do -PRON- thunder ?</td>\n",
       "    </tr>\n",
       "    <tr>\n",
       "      <th>43972</th>\n",
       "      <td>Aristotle - Complete Works</td>\n",
       "      <td>Aristotle</td>\n",
       "      <td>aristotle</td>\n",
       "      <td>(it makes no difference</td>\n",
       "      <td>(it makes no difference</td>\n",
       "      <td>-320</td>\n",
       "      <td>1991</td>\n",
       "      <td>23</td>\n",
       "      <td>(it makes no difference</td>\n",
       "      <td>['it', 'makes', 'no', 'difference']</td>\n",
       "      <td>( -PRON- make no difference</td>\n",
       "    </tr>\n",
       "    <tr>\n",
       "      <th>45092</th>\n",
       "      <td>Aristotle - Complete Works</td>\n",
       "      <td>Aristotle</td>\n",
       "      <td>aristotle</td>\n",
       "      <td>their premisses are false and their conclusion...</td>\n",
       "      <td>their premisses are false and their conclusion...</td>\n",
       "      <td>-320</td>\n",
       "      <td>1991</td>\n",
       "      <td>62</td>\n",
       "      <td>their premisses are false and their conclusion...</td>\n",
       "      <td>['their', 'premisses', 'are', 'false', 'and', ...</td>\n",
       "      <td>-PRON- premiss be false and -PRON- conclusion...</td>\n",
       "    </tr>\n",
       "    <tr>\n",
       "      <th>45127</th>\n",
       "      <td>Aristotle - Complete Works</td>\n",
       "      <td>Aristotle</td>\n",
       "      <td>aristotle</td>\n",
       "      <td>Their premisses are false and their conclusion...</td>\n",
       "      <td>Their premisses are false and their conclusion...</td>\n",
       "      <td>-320</td>\n",
       "      <td>1991</td>\n",
       "      <td>62</td>\n",
       "      <td>their premisses are false and their conclusion...</td>\n",
       "      <td>['their', 'premisses', 'are', 'false', 'and', ...</td>\n",
       "      <td>-PRON- premiss be false and -PRON- conclusion...</td>\n",
       "    </tr>\n",
       "    <tr>\n",
       "      <th>72817</th>\n",
       "      <td>Aristotle - Complete Works</td>\n",
       "      <td>Aristotle</td>\n",
       "      <td>aristotle</td>\n",
       "      <td>why does it thunder?</td>\n",
       "      <td>why does it thunder?</td>\n",
       "      <td>-320</td>\n",
       "      <td>1991</td>\n",
       "      <td>20</td>\n",
       "      <td>why does it thunder?</td>\n",
       "      <td>['why', 'does', 'it', 'thunder']</td>\n",
       "      <td>why do -PRON- thunder ?</td>\n",
       "    </tr>\n",
       "    <tr>\n",
       "      <th>90434</th>\n",
       "      <td>Essay Concerning Human Understanding</td>\n",
       "      <td>Locke</td>\n",
       "      <td>empiricism</td>\n",
       "      <td>What is positive, what negative, in our Idea o...</td>\n",
       "      <td>What is positive, what negative, in our Idea o...</td>\n",
       "      <td>1689</td>\n",
       "      <td>2004</td>\n",
       "      <td>57</td>\n",
       "      <td>what is positive, what negative, in our idea o...</td>\n",
       "      <td>['what', 'is', 'positive', 'what', 'negative',...</td>\n",
       "      <td>what be positive , what negative , in -PRON- ...</td>\n",
       "    </tr>\n",
       "    <tr>\n",
       "      <th>90473</th>\n",
       "      <td>Essay Concerning Human Understanding</td>\n",
       "      <td>Locke</td>\n",
       "      <td>empiricism</td>\n",
       "      <td>What is positive, what negative, in our Idea o...</td>\n",
       "      <td>What is positive, what negative, in our Idea o...</td>\n",
       "      <td>1689</td>\n",
       "      <td>2004</td>\n",
       "      <td>57</td>\n",
       "      <td>what is positive, what negative, in our idea o...</td>\n",
       "      <td>['what', 'is', 'positive', 'what', 'negative',...</td>\n",
       "      <td>what be positive , what negative , in -PRON- ...</td>\n",
       "    </tr>\n",
       "    <tr>\n",
       "      <th>101152</th>\n",
       "      <td>A Treatise Of Human Nature</td>\n",
       "      <td>Hume</td>\n",
       "      <td>empiricism</td>\n",
       "      <td>One might think it were entirely superfluous t...</td>\n",
       "      <td>One might think it were entirely superfluous t...</td>\n",
       "      <td>1739</td>\n",
       "      <td>2003</td>\n",
       "      <td>260</td>\n",
       "      <td>one might think it were entirely superfluous t...</td>\n",
       "      <td>['one', 'might', 'think', 'it', 'were', 'entir...</td>\n",
       "      <td>one may think -PRON- be entirely superfluous ...</td>\n",
       "    </tr>\n",
       "    <tr>\n",
       "      <th>101153</th>\n",
       "      <td>A Treatise Of Human Nature</td>\n",
       "      <td>Hume</td>\n",
       "      <td>empiricism</td>\n",
       "      <td>One might think It were entirely superfluous t...</td>\n",
       "      <td>One might think It were entirely superfluous t...</td>\n",
       "      <td>1739</td>\n",
       "      <td>2003</td>\n",
       "      <td>260</td>\n",
       "      <td>one might think it were entirely superfluous t...</td>\n",
       "      <td>['one', 'might', 'think', 'it', 'were', 'entir...</td>\n",
       "      <td>one may think -PRON- be entirely superfluous ...</td>\n",
       "    </tr>\n",
       "    <tr>\n",
       "      <th>110050</th>\n",
       "      <td>Ethics</td>\n",
       "      <td>Spinoza</td>\n",
       "      <td>rationalism</td>\n",
       "      <td>There is no modification of the body, whereof ...</td>\n",
       "      <td>There is no modification of the body, whereof ...</td>\n",
       "      <td>1677</td>\n",
       "      <td>2003</td>\n",
       "      <td>96</td>\n",
       "      <td>there is no modification of the body, whereof ...</td>\n",
       "      <td>['there', 'is', 'no', 'modification', 'of', 't...</td>\n",
       "      <td>there be no modification of the body , whereo...</td>\n",
       "    </tr>\n",
       "    <tr>\n",
       "      <th>110054</th>\n",
       "      <td>Ethics</td>\n",
       "      <td>Spinoza</td>\n",
       "      <td>rationalism</td>\n",
       "      <td>there is no modification of the body, whereof ...</td>\n",
       "      <td>there is no modification of the body, whereof ...</td>\n",
       "      <td>1677</td>\n",
       "      <td>2003</td>\n",
       "      <td>96</td>\n",
       "      <td>there is no modification of the body, whereof ...</td>\n",
       "      <td>['there', 'is', 'no', 'modification', 'of', 't...</td>\n",
       "      <td>there be no modification of the body , whereo...</td>\n",
       "    </tr>\n",
       "    <tr>\n",
       "      <th>126240</th>\n",
       "      <td>The Search After Truth</td>\n",
       "      <td>Malebranche</td>\n",
       "      <td>rationalism</td>\n",
       "      <td>On What I Said at the Beginning of the Tenth C...</td>\n",
       "      <td>On What I Said at the Beginning of the Tenth C...</td>\n",
       "      <td>1674</td>\n",
       "      <td>1997</td>\n",
       "      <td>183</td>\n",
       "      <td>on what i said at the beginning of the tenth c...</td>\n",
       "      <td>['on', 'what', 'said', 'at', 'the', 'beginning...</td>\n",
       "      <td>on what -PRON- say at the beginning of the Te...</td>\n",
       "    </tr>\n",
       "    <tr>\n",
       "      <th>126243</th>\n",
       "      <td>The Search After Truth</td>\n",
       "      <td>Malebranche</td>\n",
       "      <td>rationalism</td>\n",
       "      <td>Summary of My Proofs for, and Explanations of,...</td>\n",
       "      <td>Summary of My Proofs for, and Explanations of,...</td>\n",
       "      <td>1674</td>\n",
       "      <td>1997</td>\n",
       "      <td>60</td>\n",
       "      <td>summary of my proofs for, and explanations of,...</td>\n",
       "      <td>['summary', 'of', 'my', 'proofs', 'for', 'and'...</td>\n",
       "      <td>summary of -PRON- Proofs for , and explanatio...</td>\n",
       "    </tr>\n",
       "    <tr>\n",
       "      <th>126253</th>\n",
       "      <td>The Search After Truth</td>\n",
       "      <td>Malebranche</td>\n",
       "      <td>rationalism</td>\n",
       "      <td>Concerning the Efficacy Attributed to Secondar...</td>\n",
       "      <td>Concerning the Efficacy Attributed to Secondar...</td>\n",
       "      <td>1674</td>\n",
       "      <td>1997</td>\n",
       "      <td>55</td>\n",
       "      <td>concerning the efficacy attributed to secondar...</td>\n",
       "      <td>['concerning', 'the', 'efficacy', 'attributed'...</td>\n",
       "      <td>concern the efficacy attribute to secondary c...</td>\n",
       "    </tr>\n",
       "    <tr>\n",
       "      <th>126703</th>\n",
       "      <td>The Search After Truth</td>\n",
       "      <td>Malebranche</td>\n",
       "      <td>rationalism</td>\n",
       "      <td>On what I said at the beginning of the tenth c...</td>\n",
       "      <td>On what I said at the beginning of the tenth c...</td>\n",
       "      <td>1674</td>\n",
       "      <td>1997</td>\n",
       "      <td>183</td>\n",
       "      <td>on what i said at the beginning of the tenth c...</td>\n",
       "      <td>['on', 'what', 'said', 'at', 'the', 'beginning...</td>\n",
       "      <td>on what -PRON- say at the beginning of the te...</td>\n",
       "    </tr>\n",
       "    <tr>\n",
       "      <th>126880</th>\n",
       "      <td>The Search After Truth</td>\n",
       "      <td>Malebranche</td>\n",
       "      <td>rationalism</td>\n",
       "      <td>Summary of my proofs for, and explanations of,...</td>\n",
       "      <td>Summary of my proofs for, and explanations of,...</td>\n",
       "      <td>1674</td>\n",
       "      <td>1997</td>\n",
       "      <td>60</td>\n",
       "      <td>summary of my proofs for, and explanations of,...</td>\n",
       "      <td>['summary', 'of', 'my', 'proofs', 'for', 'and'...</td>\n",
       "      <td>summary of -PRON- proof for , and explanation...</td>\n",
       "    </tr>\n",
       "    <tr>\n",
       "      <th>128412</th>\n",
       "      <td>The Search After Truth</td>\n",
       "      <td>Malebranche</td>\n",
       "      <td>rationalism</td>\n",
       "      <td>Concerning the efficacy attributed to secondar...</td>\n",
       "      <td>Concerning the efficacy attributed to secondar...</td>\n",
       "      <td>1674</td>\n",
       "      <td>1997</td>\n",
       "      <td>55</td>\n",
       "      <td>concerning the efficacy attributed to secondar...</td>\n",
       "      <td>['concerning', 'the', 'efficacy', 'attributed'...</td>\n",
       "      <td>concern the efficacy attribute to secondary c...</td>\n",
       "    </tr>\n",
       "    <tr>\n",
       "      <th>149908</th>\n",
       "      <td>Lewis - Papers</td>\n",
       "      <td>Lewis</td>\n",
       "      <td>analytic</td>\n",
       "      <td>(It makes no difference</td>\n",
       "      <td>(It makes no difference</td>\n",
       "      <td>1985</td>\n",
       "      <td>2008</td>\n",
       "      <td>23</td>\n",
       "      <td>(it makes no difference</td>\n",
       "      <td>['it', 'makes', 'no', 'difference']</td>\n",
       "      <td>( -PRON- make no difference</td>\n",
       "    </tr>\n",
       "    <tr>\n",
       "      <th>202043</th>\n",
       "      <td>Writing And Difference</td>\n",
       "      <td>Derrida</td>\n",
       "      <td>continental</td>\n",
       "      <td>Encounter is separation.</td>\n",
       "      <td>Encounter is separation.</td>\n",
       "      <td>1967</td>\n",
       "      <td>2001</td>\n",
       "      <td>24</td>\n",
       "      <td>encounter is separation.</td>\n",
       "      <td>['encounter', 'is', 'separation']</td>\n",
       "      <td>encounter be separation .</td>\n",
       "    </tr>\n",
       "    <tr>\n",
       "      <th>202064</th>\n",
       "      <td>Writing And Difference</td>\n",
       "      <td>Derrida</td>\n",
       "      <td>continental</td>\n",
       "      <td>encounter is separation.</td>\n",
       "      <td>encounter is separation.</td>\n",
       "      <td>1967</td>\n",
       "      <td>2001</td>\n",
       "      <td>24</td>\n",
       "      <td>encounter is separation.</td>\n",
       "      <td>['encounter', 'is', 'separation']</td>\n",
       "      <td>encounter be separation .</td>\n",
       "    </tr>\n",
       "    <tr>\n",
       "      <th>204396</th>\n",
       "      <td>Writing And Difference</td>\n",
       "      <td>Derrida</td>\n",
       "      <td>continental</td>\n",
       "      <td>for far from believing that man invented the s...</td>\n",
       "      <td>for far from believing that man invented the s...</td>\n",
       "      <td>1967</td>\n",
       "      <td>2001</td>\n",
       "      <td>170</td>\n",
       "      <td>for far from believing that man invented the s...</td>\n",
       "      <td>['for', 'far', 'from', 'believing', 'that', 'm...</td>\n",
       "      <td>for far from believe that man invent the supe...</td>\n",
       "    </tr>\n",
       "    <tr>\n",
       "      <th>205573</th>\n",
       "      <td>Writing And Difference</td>\n",
       "      <td>Derrida</td>\n",
       "      <td>continental</td>\n",
       "      <td>For far from believing that man invented the s...</td>\n",
       "      <td>For far from believing that man invented the s...</td>\n",
       "      <td>1967</td>\n",
       "      <td>2001</td>\n",
       "      <td>170</td>\n",
       "      <td>for far from believing that man invented the s...</td>\n",
       "      <td>['for', 'far', 'from', 'believing', 'that', 'm...</td>\n",
       "      <td>for far from believe that man invent the supe...</td>\n",
       "    </tr>\n",
       "    <tr>\n",
       "      <th>215912</th>\n",
       "      <td>Anti-Oedipus</td>\n",
       "      <td>Deleuze</td>\n",
       "      <td>continental</td>\n",
       "      <td>(See reference note, pp.</td>\n",
       "      <td>(See reference note, pp.</td>\n",
       "      <td>1972</td>\n",
       "      <td>1997</td>\n",
       "      <td>24</td>\n",
       "      <td>(see reference note, pp.</td>\n",
       "      <td>['see', 'reference', 'note', 'pp']</td>\n",
       "      <td>( see reference note , pp .</td>\n",
       "    </tr>\n",
       "    <tr>\n",
       "      <th>217703</th>\n",
       "      <td>Anti-Oedipus</td>\n",
       "      <td>Deleuze</td>\n",
       "      <td>continental</td>\n",
       "      <td>(see reference note, pp.</td>\n",
       "      <td>(see reference note, pp.</td>\n",
       "      <td>1972</td>\n",
       "      <td>1997</td>\n",
       "      <td>24</td>\n",
       "      <td>(see reference note, pp.</td>\n",
       "      <td>['see', 'reference', 'note', 'pp']</td>\n",
       "      <td>( see reference note , pp .</td>\n",
       "    </tr>\n",
       "    <tr>\n",
       "      <th>222281</th>\n",
       "      <td>The Phenomenology Of Perception</td>\n",
       "      <td>Merleau-Ponty</td>\n",
       "      <td>phenomenology</td>\n",
       "      <td>Piaget, La Repr sentation du Monde chez l'Enfa...</td>\n",
       "      <td>Piaget, La Repr sentation du Monde chez l'Enfa...</td>\n",
       "      <td>1945</td>\n",
       "      <td>2002</td>\n",
       "      <td>53</td>\n",
       "      <td>piaget, la repr sentation du monde chez l'enfa...</td>\n",
       "      <td>['piaget', 'la', 'repr', 'sentation', 'du', 'm...</td>\n",
       "      <td>Piaget , La Repr sentation du Monde chez l'En...</td>\n",
       "    </tr>\n",
       "    <tr>\n",
       "      <th>225011</th>\n",
       "      <td>The Phenomenology Of Perception</td>\n",
       "      <td>Merleau-Ponty</td>\n",
       "      <td>phenomenology</td>\n",
       "      <td>Piaget, La Repr sentation du monde chez l'enfa...</td>\n",
       "      <td>Piaget, La Repr sentation du monde chez l'enfa...</td>\n",
       "      <td>1945</td>\n",
       "      <td>2002</td>\n",
       "      <td>53</td>\n",
       "      <td>piaget, la repr sentation du monde chez l'enfa...</td>\n",
       "      <td>['piaget', 'la', 'repr', 'sentation', 'du', 'm...</td>\n",
       "      <td>Piaget , La Repr sentation du monde chez l'en...</td>\n",
       "    </tr>\n",
       "    <tr>\n",
       "      <th>225650</th>\n",
       "      <td>The Phenomenology Of Perception</td>\n",
       "      <td>Merleau-Ponty</td>\n",
       "      <td>phenomenology</td>\n",
       "      <td>How is that possible?</td>\n",
       "      <td>How is that possible?</td>\n",
       "      <td>1945</td>\n",
       "      <td>2002</td>\n",
       "      <td>21</td>\n",
       "      <td>how is that possible?</td>\n",
       "      <td>['how', 'is', 'that', 'possible']</td>\n",
       "      <td>how be that possible ?</td>\n",
       "    </tr>\n",
       "    <tr>\n",
       "      <th>232400</th>\n",
       "      <td>The Idea Of Phenomenology</td>\n",
       "      <td>Husserl</td>\n",
       "      <td>phenomenology</td>\n",
       "      <td>how is that possible?</td>\n",
       "      <td>how is that possible?</td>\n",
       "      <td>1907</td>\n",
       "      <td>1999</td>\n",
       "      <td>21</td>\n",
       "      <td>how is that possible?</td>\n",
       "      <td>['how', 'is', 'that', 'possible']</td>\n",
       "      <td>how be that possible ?</td>\n",
       "    </tr>\n",
       "    <tr>\n",
       "      <th>233290</th>\n",
       "      <td>Being And Time</td>\n",
       "      <td>Heidegger</td>\n",
       "      <td>phenomenology</td>\n",
       "      <td>Dasein and temporality.</td>\n",
       "      <td>Dasein and temporality.</td>\n",
       "      <td>1927</td>\n",
       "      <td>1996</td>\n",
       "      <td>23</td>\n",
       "      <td>dasein and temporality.</td>\n",
       "      <td>['dasein', 'and', 'temporality']</td>\n",
       "      <td>Dasein and temporality .</td>\n",
       "    </tr>\n",
       "    <tr>\n",
       "      <th>236948</th>\n",
       "      <td>Being And Time</td>\n",
       "      <td>Heidegger</td>\n",
       "      <td>phenomenology</td>\n",
       "      <td>Discoveredness of. .</td>\n",
       "      <td>Discoveredness of. .</td>\n",
       "      <td>1927</td>\n",
       "      <td>1996</td>\n",
       "      <td>20</td>\n",
       "      <td>discoveredness of. .</td>\n",
       "      <td>['discoveredness', 'of']</td>\n",
       "      <td>Discoveredness of . .</td>\n",
       "    </tr>\n",
       "    <tr>\n",
       "      <th>236964</th>\n",
       "      <td>Being And Time</td>\n",
       "      <td>Heidegger</td>\n",
       "      <td>phenomenology</td>\n",
       "      <td>discoveredness of. .</td>\n",
       "      <td>discoveredness of. .</td>\n",
       "      <td>1927</td>\n",
       "      <td>1996</td>\n",
       "      <td>20</td>\n",
       "      <td>discoveredness of. .</td>\n",
       "      <td>['discoveredness', 'of']</td>\n",
       "      <td>discoveredness of . .</td>\n",
       "    </tr>\n",
       "    <tr>\n",
       "      <th>237074</th>\n",
       "      <td>Being And Time</td>\n",
       "      <td>Heidegger</td>\n",
       "      <td>phenomenology</td>\n",
       "      <td>Dasein and Temporality.</td>\n",
       "      <td>Dasein and Temporality.</td>\n",
       "      <td>1927</td>\n",
       "      <td>1996</td>\n",
       "      <td>23</td>\n",
       "      <td>dasein and temporality.</td>\n",
       "      <td>['dasein', 'and', 'temporality']</td>\n",
       "      <td>Dasein and Temporality .</td>\n",
       "    </tr>\n",
       "    <tr>\n",
       "      <th>249702</th>\n",
       "      <td>Critique Of Practical Reason</td>\n",
       "      <td>Kant</td>\n",
       "      <td>german_idealism</td>\n",
       "      <td>likewise in the next paragraph.</td>\n",
       "      <td>likewise in the next paragraph.</td>\n",
       "      <td>1788</td>\n",
       "      <td>2002</td>\n",
       "      <td>31</td>\n",
       "      <td>likewise in the next paragraph.</td>\n",
       "      <td>['likewise', 'in', 'the', 'next', 'paragraph']</td>\n",
       "      <td>likewise in the next paragraph .</td>\n",
       "    </tr>\n",
       "    <tr>\n",
       "      <th>249814</th>\n",
       "      <td>Critique Of Practical Reason</td>\n",
       "      <td>Kant</td>\n",
       "      <td>german_idealism</td>\n",
       "      <td>Likewise in the next paragraph.</td>\n",
       "      <td>Likewise in the next paragraph.</td>\n",
       "      <td>1788</td>\n",
       "      <td>2002</td>\n",
       "      <td>31</td>\n",
       "      <td>likewise in the next paragraph.</td>\n",
       "      <td>['likewise', 'in', 'the', 'next', 'paragraph']</td>\n",
       "      <td>likewise in the next paragraph .</td>\n",
       "    </tr>\n",
       "    <tr>\n",
       "      <th>256663</th>\n",
       "      <td>Critique Of Pure Reason</td>\n",
       "      <td>Kant</td>\n",
       "      <td>german_idealism</td>\n",
       "      <td>Anticipations of perception.</td>\n",
       "      <td>Anticipations of perception.</td>\n",
       "      <td>1781</td>\n",
       "      <td>1998</td>\n",
       "      <td>28</td>\n",
       "      <td>anticipations of perception.</td>\n",
       "      <td>['anticipations', 'of', 'perception']</td>\n",
       "      <td>anticipation of perception .</td>\n",
       "    </tr>\n",
       "    <tr>\n",
       "      <th>256672</th>\n",
       "      <td>Critique Of Pure Reason</td>\n",
       "      <td>Kant</td>\n",
       "      <td>german_idealism</td>\n",
       "      <td>Anticipations of Perception.</td>\n",
       "      <td>Anticipations of Perception.</td>\n",
       "      <td>1781</td>\n",
       "      <td>1998</td>\n",
       "      <td>28</td>\n",
       "      <td>anticipations of perception.</td>\n",
       "      <td>['anticipations', 'of', 'perception']</td>\n",
       "      <td>anticipation of perception .</td>\n",
       "    </tr>\n",
       "    <tr>\n",
       "      <th>262135</th>\n",
       "      <td>The System Of Ethics</td>\n",
       "      <td>Fichte</td>\n",
       "      <td>german_idealism</td>\n",
       "      <td>Cambridge University Press, Henceforth.</td>\n",
       "      <td>Cambridge University Press, Henceforth.</td>\n",
       "      <td>1798</td>\n",
       "      <td>2005</td>\n",
       "      <td>39</td>\n",
       "      <td>cambridge university press, henceforth.</td>\n",
       "      <td>['cambridge', 'university', 'press', 'hencefor...</td>\n",
       "      <td>Cambridge University Press , henceforth .</td>\n",
       "    </tr>\n",
       "    <tr>\n",
       "      <th>264305</th>\n",
       "      <td>The System Of Ethics</td>\n",
       "      <td>Fichte</td>\n",
       "      <td>german_idealism</td>\n",
       "      <td>Cambridge University Press, henceforth.</td>\n",
       "      <td>Cambridge University Press, henceforth.</td>\n",
       "      <td>1798</td>\n",
       "      <td>2005</td>\n",
       "      <td>39</td>\n",
       "      <td>cambridge university press, henceforth.</td>\n",
       "      <td>['cambridge', 'university', 'press', 'hencefor...</td>\n",
       "      <td>Cambridge University Press , henceforth .</td>\n",
       "    </tr>\n",
       "    <tr>\n",
       "      <th>296017</th>\n",
       "      <td>Capital</td>\n",
       "      <td>Marx</td>\n",
       "      <td>communism</td>\n",
       "      <td>Appropriation of Supplementary Labour Power by...</td>\n",
       "      <td>Appropriation of Supplementary Labour Power by...</td>\n",
       "      <td>1883</td>\n",
       "      <td>1887</td>\n",
       "      <td>55</td>\n",
       "      <td>appropriation of supplementary labour power by...</td>\n",
       "      <td>['appropriation', 'of', 'supplementary', 'labo...</td>\n",
       "      <td>appropriation of Supplementary Labour Power b...</td>\n",
       "    </tr>\n",
       "    <tr>\n",
       "      <th>296273</th>\n",
       "      <td>Capital</td>\n",
       "      <td>Marx</td>\n",
       "      <td>communism</td>\n",
       "      <td>Appropriation of Supplementary Labour power by...</td>\n",
       "      <td>Appropriation of Supplementary Labour power by...</td>\n",
       "      <td>1883</td>\n",
       "      <td>1887</td>\n",
       "      <td>55</td>\n",
       "      <td>appropriation of supplementary labour power by...</td>\n",
       "      <td>['appropriation', 'of', 'supplementary', 'labo...</td>\n",
       "      <td>appropriation of Supplementary Labour power b...</td>\n",
       "    </tr>\n",
       "    <tr>\n",
       "      <th>298489</th>\n",
       "      <td>Capital</td>\n",
       "      <td>Marx</td>\n",
       "      <td>communism</td>\n",
       "      <td>Diminishing Productiveness of Labour with a Si...</td>\n",
       "      <td>Diminishing Productiveness of Labour with a Si...</td>\n",
       "      <td>1883</td>\n",
       "      <td>1887</td>\n",
       "      <td>88</td>\n",
       "      <td>diminishing productiveness of labour with a si...</td>\n",
       "      <td>['diminishing', 'productiveness', 'of', 'labou...</td>\n",
       "      <td>diminish productiveness of Labour with a simu...</td>\n",
       "    </tr>\n",
       "    <tr>\n",
       "      <th>298613</th>\n",
       "      <td>Capital</td>\n",
       "      <td>Marx</td>\n",
       "      <td>communism</td>\n",
       "      <td>Diminishing productiveness of labour with a si...</td>\n",
       "      <td>Diminishing productiveness of labour with a si...</td>\n",
       "      <td>1883</td>\n",
       "      <td>1887</td>\n",
       "      <td>88</td>\n",
       "      <td>diminishing productiveness of labour with a si...</td>\n",
       "      <td>['diminishing', 'productiveness', 'of', 'labou...</td>\n",
       "      <td>diminish productiveness of labour with a simu...</td>\n",
       "    </tr>\n",
       "    <tr>\n",
       "      <th>299211</th>\n",
       "      <td>Capital</td>\n",
       "      <td>Marx</td>\n",
       "      <td>communism</td>\n",
       "      <td>The Economic Position of the British labourer.</td>\n",
       "      <td>The Economic Position of the British labourer.</td>\n",
       "      <td>1883</td>\n",
       "      <td>1887</td>\n",
       "      <td>46</td>\n",
       "      <td>the economic position of the british labourer.</td>\n",
       "      <td>['the', 'economic', 'position', 'of', 'the', '...</td>\n",
       "      <td>the economic Position of the british labourer .</td>\n",
       "    </tr>\n",
       "    <tr>\n",
       "      <th>299519</th>\n",
       "      <td>Capital</td>\n",
       "      <td>Marx</td>\n",
       "      <td>communism</td>\n",
       "      <td>Reasons for the Late Increase of the Poor Rate...</td>\n",
       "      <td>Reasons for the Late Increase of the Poor Rate...</td>\n",
       "      <td>1883</td>\n",
       "      <td>1887</td>\n",
       "      <td>110</td>\n",
       "      <td>reasons for the late increase of the poor rate...</td>\n",
       "      <td>['reasons', 'for', 'the', 'late', 'increase', ...</td>\n",
       "      <td>reason for the late Increase of the Poor Rate...</td>\n",
       "    </tr>\n",
       "    <tr>\n",
       "      <th>300166</th>\n",
       "      <td>Capital</td>\n",
       "      <td>Marx</td>\n",
       "      <td>communism</td>\n",
       "      <td>The Economic position of the British labourer.</td>\n",
       "      <td>The Economic position of the British labourer.</td>\n",
       "      <td>1883</td>\n",
       "      <td>1887</td>\n",
       "      <td>46</td>\n",
       "      <td>the economic position of the british labourer.</td>\n",
       "      <td>['the', 'economic', 'position', 'of', 'the', '...</td>\n",
       "      <td>the economic position of the british labourer .</td>\n",
       "    </tr>\n",
       "    <tr>\n",
       "      <th>301691</th>\n",
       "      <td>Capital</td>\n",
       "      <td>Marx</td>\n",
       "      <td>communism</td>\n",
       "      <td>Reasons for the Late Increase of the Poor Rate...</td>\n",
       "      <td>Reasons for the Late Increase of the Poor Rate...</td>\n",
       "      <td>1883</td>\n",
       "      <td>1887</td>\n",
       "      <td>110</td>\n",
       "      <td>reasons for the late increase of the poor rate...</td>\n",
       "      <td>['reasons', 'for', 'the', 'late', 'increase', ...</td>\n",
       "      <td>reason for the late Increase of the Poor Rate...</td>\n",
       "    </tr>\n",
       "    <tr>\n",
       "      <th>327033</th>\n",
       "      <td>Meditations</td>\n",
       "      <td>Marcus Aurelius</td>\n",
       "      <td>stoicism</td>\n",
       "      <td>Let him look to that.</td>\n",
       "      <td>Let him look to that.</td>\n",
       "      <td>170</td>\n",
       "      <td>2008</td>\n",
       "      <td>21</td>\n",
       "      <td>let him look to that.</td>\n",
       "      <td>['let', 'him', 'look', 'to', 'that']</td>\n",
       "      <td>let -PRON- look to that .</td>\n",
       "    </tr>\n",
       "    <tr>\n",
       "      <th>328367</th>\n",
       "      <td>Meditations</td>\n",
       "      <td>Marcus Aurelius</td>\n",
       "      <td>stoicism</td>\n",
       "      <td>let him look to that.</td>\n",
       "      <td>let him look to that.</td>\n",
       "      <td>170</td>\n",
       "      <td>2008</td>\n",
       "      <td>21</td>\n",
       "      <td>let him look to that.</td>\n",
       "      <td>['let', 'him', 'look', 'to', 'that']</td>\n",
       "      <td>let -PRON- look to that .</td>\n",
       "    </tr>\n",
       "    <tr>\n",
       "      <th>329232</th>\n",
       "      <td>The Antichrist</td>\n",
       "      <td>Nietzsche</td>\n",
       "      <td>nietzsche</td>\n",
       "      <td>What appalling paganism!</td>\n",
       "      <td>What appalling paganism!</td>\n",
       "      <td>1888</td>\n",
       "      <td>2006</td>\n",
       "      <td>24</td>\n",
       "      <td>what appalling paganism!</td>\n",
       "      <td>['what', 'appalling', 'paganism']</td>\n",
       "      <td>what appalling paganism !</td>\n",
       "    </tr>\n",
       "    <tr>\n",
       "      <th>329303</th>\n",
       "      <td>The Antichrist</td>\n",
       "      <td>Nietzsche</td>\n",
       "      <td>nietzsche</td>\n",
       "      <td>We live, we die, we sacrifice ourselves for th...</td>\n",
       "      <td>We live, we die, we sacrifice ourselves for th...</td>\n",
       "      <td>1888</td>\n",
       "      <td>2006</td>\n",
       "      <td>93</td>\n",
       "      <td>we live, we die, we sacrifice ourselves for th...</td>\n",
       "      <td>['we', 'live', 'we', 'die', 'we', 'sacrifice',...</td>\n",
       "      <td>-PRON- live , -PRON- die , -PRON- sacrifice -...</td>\n",
       "    </tr>\n",
       "    <tr>\n",
       "      <th>335221</th>\n",
       "      <td>Twilight Of The Idols</td>\n",
       "      <td>Nietzsche</td>\n",
       "      <td>nietzsche</td>\n",
       "      <td>What appalling Paganism!</td>\n",
       "      <td>What appalling Paganism!</td>\n",
       "      <td>1888</td>\n",
       "      <td>2016</td>\n",
       "      <td>24</td>\n",
       "      <td>what appalling paganism!</td>\n",
       "      <td>['what', 'appalling', 'paganism']</td>\n",
       "      <td>what appalling paganism !</td>\n",
       "    </tr>\n",
       "    <tr>\n",
       "      <th>335291</th>\n",
       "      <td>Twilight Of The Idols</td>\n",
       "      <td>Nietzsche</td>\n",
       "      <td>nietzsche</td>\n",
       "      <td>We live, we die, we sacrifice ourselves for th...</td>\n",
       "      <td>We live, we die, we sacrifice ourselves for th...</td>\n",
       "      <td>1888</td>\n",
       "      <td>2016</td>\n",
       "      <td>93</td>\n",
       "      <td>we live, we die, we sacrifice ourselves for th...</td>\n",
       "      <td>['we', 'live', 'we', 'die', 'we', 'sacrifice',...</td>\n",
       "      <td>-PRON- live , -PRON- die , -PRON- sacrifice -...</td>\n",
       "    </tr>\n",
       "    <tr>\n",
       "      <th>336659</th>\n",
       "      <td>Thus Spake Zarathustra</td>\n",
       "      <td>Nietzsche</td>\n",
       "      <td>nietzsche</td>\n",
       "      <td>so doth it accord with good sleep.</td>\n",
       "      <td>so doth it accord with good sleep.</td>\n",
       "      <td>1887</td>\n",
       "      <td>2008</td>\n",
       "      <td>34</td>\n",
       "      <td>so doth it accord with good sleep.</td>\n",
       "      <td>['so', 'doth', 'it', 'accord', 'with', 'good',...</td>\n",
       "      <td>so doth -PRON- accord with good sleep .</td>\n",
       "    </tr>\n",
       "    <tr>\n",
       "      <th>336663</th>\n",
       "      <td>Thus Spake Zarathustra</td>\n",
       "      <td>Nietzsche</td>\n",
       "      <td>nietzsche</td>\n",
       "      <td>So doth it accord with good sleep.</td>\n",
       "      <td>So doth it accord with good sleep.</td>\n",
       "      <td>1887</td>\n",
       "      <td>2008</td>\n",
       "      <td>34</td>\n",
       "      <td>so doth it accord with good sleep.</td>\n",
       "      <td>['so', 'doth', 'it', 'accord', 'with', 'good',...</td>\n",
       "      <td>so doth -PRON- accord with good sleep .</td>\n",
       "    </tr>\n",
       "  </tbody>\n",
       "</table>\n",
       "</div>"
      ],
      "text/plain": [
       "                                       title           author  \\\n",
       "16153                 Plato - Complete Works            Plato   \n",
       "24096                 Plato - Complete Works            Plato   \n",
       "42066             Aristotle - Complete Works        Aristotle   \n",
       "43972             Aristotle - Complete Works        Aristotle   \n",
       "45092             Aristotle - Complete Works        Aristotle   \n",
       "45127             Aristotle - Complete Works        Aristotle   \n",
       "72817             Aristotle - Complete Works        Aristotle   \n",
       "90434   Essay Concerning Human Understanding            Locke   \n",
       "90473   Essay Concerning Human Understanding            Locke   \n",
       "101152            A Treatise Of Human Nature             Hume   \n",
       "101153            A Treatise Of Human Nature             Hume   \n",
       "110050                                Ethics          Spinoza   \n",
       "110054                                Ethics          Spinoza   \n",
       "126240                The Search After Truth      Malebranche   \n",
       "126243                The Search After Truth      Malebranche   \n",
       "126253                The Search After Truth      Malebranche   \n",
       "126703                The Search After Truth      Malebranche   \n",
       "126880                The Search After Truth      Malebranche   \n",
       "128412                The Search After Truth      Malebranche   \n",
       "149908                        Lewis - Papers            Lewis   \n",
       "202043                Writing And Difference          Derrida   \n",
       "202064                Writing And Difference          Derrida   \n",
       "204396                Writing And Difference          Derrida   \n",
       "205573                Writing And Difference          Derrida   \n",
       "215912                          Anti-Oedipus          Deleuze   \n",
       "217703                          Anti-Oedipus          Deleuze   \n",
       "222281       The Phenomenology Of Perception    Merleau-Ponty   \n",
       "225011       The Phenomenology Of Perception    Merleau-Ponty   \n",
       "225650       The Phenomenology Of Perception    Merleau-Ponty   \n",
       "232400             The Idea Of Phenomenology          Husserl   \n",
       "233290                        Being And Time        Heidegger   \n",
       "236948                        Being And Time        Heidegger   \n",
       "236964                        Being And Time        Heidegger   \n",
       "237074                        Being And Time        Heidegger   \n",
       "249702          Critique Of Practical Reason             Kant   \n",
       "249814          Critique Of Practical Reason             Kant   \n",
       "256663               Critique Of Pure Reason             Kant   \n",
       "256672               Critique Of Pure Reason             Kant   \n",
       "262135                  The System Of Ethics           Fichte   \n",
       "264305                  The System Of Ethics           Fichte   \n",
       "296017                               Capital             Marx   \n",
       "296273                               Capital             Marx   \n",
       "298489                               Capital             Marx   \n",
       "298613                               Capital             Marx   \n",
       "299211                               Capital             Marx   \n",
       "299519                               Capital             Marx   \n",
       "300166                               Capital             Marx   \n",
       "301691                               Capital             Marx   \n",
       "327033                           Meditations  Marcus Aurelius   \n",
       "328367                           Meditations  Marcus Aurelius   \n",
       "329232                        The Antichrist        Nietzsche   \n",
       "329303                        The Antichrist        Nietzsche   \n",
       "335221                 Twilight Of The Idols        Nietzsche   \n",
       "335291                 Twilight Of The Idols        Nietzsche   \n",
       "336659                Thus Spake Zarathustra        Nietzsche   \n",
       "336663                Thus Spake Zarathustra        Nietzsche   \n",
       "\n",
       "                 school                                     sentence_spacy  \\\n",
       "16153             plato                           how does it seem to you?   \n",
       "24096             plato                           How does it seem to you?   \n",
       "42066         aristotle                               Why does it thunder?   \n",
       "43972         aristotle                            (it makes no difference   \n",
       "45092         aristotle  their premisses are false and their conclusion...   \n",
       "45127         aristotle  Their premisses are false and their conclusion...   \n",
       "72817         aristotle                               why does it thunder?   \n",
       "90434        empiricism  What is positive, what negative, in our Idea o...   \n",
       "90473        empiricism  What is positive, what negative, in our Idea o...   \n",
       "101152       empiricism  One might think it were entirely superfluous t...   \n",
       "101153       empiricism  One might think It were entirely superfluous t...   \n",
       "110050      rationalism  There is no modification of the body, whereof ...   \n",
       "110054      rationalism  there is no modification of the body, whereof ...   \n",
       "126240      rationalism  On What I Said at the Beginning of the Tenth C...   \n",
       "126243      rationalism  Summary of My Proofs for, and Explanations of,...   \n",
       "126253      rationalism  Concerning the Efficacy Attributed to Secondar...   \n",
       "126703      rationalism  On what I said at the beginning of the tenth c...   \n",
       "126880      rationalism  Summary of my proofs for, and explanations of,...   \n",
       "128412      rationalism  Concerning the efficacy attributed to secondar...   \n",
       "149908         analytic                            (It makes no difference   \n",
       "202043      continental                           Encounter is separation.   \n",
       "202064      continental                           encounter is separation.   \n",
       "204396      continental  for far from believing that man invented the s...   \n",
       "205573      continental  For far from believing that man invented the s...   \n",
       "215912      continental                           (See reference note, pp.   \n",
       "217703      continental                           (see reference note, pp.   \n",
       "222281    phenomenology  Piaget, La Repr sentation du Monde chez l'Enfa...   \n",
       "225011    phenomenology  Piaget, La Repr sentation du monde chez l'enfa...   \n",
       "225650    phenomenology                              How is that possible?   \n",
       "232400    phenomenology                              how is that possible?   \n",
       "233290    phenomenology                            Dasein and temporality.   \n",
       "236948    phenomenology                               Discoveredness of. .   \n",
       "236964    phenomenology                               discoveredness of. .   \n",
       "237074    phenomenology                            Dasein and Temporality.   \n",
       "249702  german_idealism                    likewise in the next paragraph.   \n",
       "249814  german_idealism                    Likewise in the next paragraph.   \n",
       "256663  german_idealism                       Anticipations of perception.   \n",
       "256672  german_idealism                       Anticipations of Perception.   \n",
       "262135  german_idealism            Cambridge University Press, Henceforth.   \n",
       "264305  german_idealism            Cambridge University Press, henceforth.   \n",
       "296017        communism  Appropriation of Supplementary Labour Power by...   \n",
       "296273        communism  Appropriation of Supplementary Labour power by...   \n",
       "298489        communism  Diminishing Productiveness of Labour with a Si...   \n",
       "298613        communism  Diminishing productiveness of labour with a si...   \n",
       "299211        communism     The Economic Position of the British labourer.   \n",
       "299519        communism  Reasons for the Late Increase of the Poor Rate...   \n",
       "300166        communism     The Economic position of the British labourer.   \n",
       "301691        communism  Reasons for the Late Increase of the Poor Rate...   \n",
       "327033         stoicism                              Let him look to that.   \n",
       "328367         stoicism                              let him look to that.   \n",
       "329232        nietzsche                           What appalling paganism!   \n",
       "329303        nietzsche  We live, we die, we sacrifice ourselves for th...   \n",
       "335221        nietzsche                           What appalling Paganism!   \n",
       "335291        nietzsche  We live, we die, we sacrifice ourselves for th...   \n",
       "336659        nietzsche                 so doth it accord with good sleep.   \n",
       "336663        nietzsche                 So doth it accord with good sleep.   \n",
       "\n",
       "                                             sentence_str  \\\n",
       "16153                            how does it seem to you?   \n",
       "24096                            How does it seem to you?   \n",
       "42066                                Why does it thunder?   \n",
       "43972                             (it makes no difference   \n",
       "45092   their premisses are false and their conclusion...   \n",
       "45127   Their premisses are false and their conclusion...   \n",
       "72817                                why does it thunder?   \n",
       "90434   What is positive, what negative, in our Idea o...   \n",
       "90473   What is positive, what negative, in our Idea o...   \n",
       "101152  One might think it were entirely superfluous t...   \n",
       "101153  One might think It were entirely superfluous t...   \n",
       "110050  There is no modification of the body, whereof ...   \n",
       "110054  there is no modification of the body, whereof ...   \n",
       "126240  On What I Said at the Beginning of the Tenth C...   \n",
       "126243  Summary of My Proofs for, and Explanations of,...   \n",
       "126253  Concerning the Efficacy Attributed to Secondar...   \n",
       "126703  On what I said at the beginning of the tenth c...   \n",
       "126880  Summary of my proofs for, and explanations of,...   \n",
       "128412  Concerning the efficacy attributed to secondar...   \n",
       "149908                            (It makes no difference   \n",
       "202043                           Encounter is separation.   \n",
       "202064                           encounter is separation.   \n",
       "204396  for far from believing that man invented the s...   \n",
       "205573  For far from believing that man invented the s...   \n",
       "215912                           (See reference note, pp.   \n",
       "217703                           (see reference note, pp.   \n",
       "222281  Piaget, La Repr sentation du Monde chez l'Enfa...   \n",
       "225011  Piaget, La Repr sentation du monde chez l'enfa...   \n",
       "225650                              How is that possible?   \n",
       "232400                              how is that possible?   \n",
       "233290                            Dasein and temporality.   \n",
       "236948                               Discoveredness of. .   \n",
       "236964                               discoveredness of. .   \n",
       "237074                            Dasein and Temporality.   \n",
       "249702                    likewise in the next paragraph.   \n",
       "249814                    Likewise in the next paragraph.   \n",
       "256663                       Anticipations of perception.   \n",
       "256672                       Anticipations of Perception.   \n",
       "262135            Cambridge University Press, Henceforth.   \n",
       "264305            Cambridge University Press, henceforth.   \n",
       "296017  Appropriation of Supplementary Labour Power by...   \n",
       "296273  Appropriation of Supplementary Labour power by...   \n",
       "298489  Diminishing Productiveness of Labour with a Si...   \n",
       "298613  Diminishing productiveness of labour with a si...   \n",
       "299211     The Economic Position of the British labourer.   \n",
       "299519  Reasons for the Late Increase of the Poor Rate...   \n",
       "300166     The Economic position of the British labourer.   \n",
       "301691  Reasons for the Late Increase of the Poor Rate...   \n",
       "327033                              Let him look to that.   \n",
       "328367                              let him look to that.   \n",
       "329232                           What appalling paganism!   \n",
       "329303  We live, we die, we sacrifice ourselves for th...   \n",
       "335221                           What appalling Paganism!   \n",
       "335291  We live, we die, we sacrifice ourselves for th...   \n",
       "336659                 so doth it accord with good sleep.   \n",
       "336663                 So doth it accord with good sleep.   \n",
       "\n",
       "        original_publication_date  corpus_edition_date  sentence_length  \\\n",
       "16153                        -350                 1997               24   \n",
       "24096                        -350                 1997               24   \n",
       "42066                        -320                 1991               20   \n",
       "43972                        -320                 1991               23   \n",
       "45092                        -320                 1991               62   \n",
       "45127                        -320                 1991               62   \n",
       "72817                        -320                 1991               20   \n",
       "90434                        1689                 2004               57   \n",
       "90473                        1689                 2004               57   \n",
       "101152                       1739                 2003              260   \n",
       "101153                       1739                 2003              260   \n",
       "110050                       1677                 2003               96   \n",
       "110054                       1677                 2003               96   \n",
       "126240                       1674                 1997              183   \n",
       "126243                       1674                 1997               60   \n",
       "126253                       1674                 1997               55   \n",
       "126703                       1674                 1997              183   \n",
       "126880                       1674                 1997               60   \n",
       "128412                       1674                 1997               55   \n",
       "149908                       1985                 2008               23   \n",
       "202043                       1967                 2001               24   \n",
       "202064                       1967                 2001               24   \n",
       "204396                       1967                 2001              170   \n",
       "205573                       1967                 2001              170   \n",
       "215912                       1972                 1997               24   \n",
       "217703                       1972                 1997               24   \n",
       "222281                       1945                 2002               53   \n",
       "225011                       1945                 2002               53   \n",
       "225650                       1945                 2002               21   \n",
       "232400                       1907                 1999               21   \n",
       "233290                       1927                 1996               23   \n",
       "236948                       1927                 1996               20   \n",
       "236964                       1927                 1996               20   \n",
       "237074                       1927                 1996               23   \n",
       "249702                       1788                 2002               31   \n",
       "249814                       1788                 2002               31   \n",
       "256663                       1781                 1998               28   \n",
       "256672                       1781                 1998               28   \n",
       "262135                       1798                 2005               39   \n",
       "264305                       1798                 2005               39   \n",
       "296017                       1883                 1887               55   \n",
       "296273                       1883                 1887               55   \n",
       "298489                       1883                 1887               88   \n",
       "298613                       1883                 1887               88   \n",
       "299211                       1883                 1887               46   \n",
       "299519                       1883                 1887              110   \n",
       "300166                       1883                 1887               46   \n",
       "301691                       1883                 1887              110   \n",
       "327033                        170                 2008               21   \n",
       "328367                        170                 2008               21   \n",
       "329232                       1888                 2006               24   \n",
       "329303                       1888                 2006               93   \n",
       "335221                       1888                 2016               24   \n",
       "335291                       1888                 2016               93   \n",
       "336659                       1887                 2008               34   \n",
       "336663                       1887                 2008               34   \n",
       "\n",
       "                                         sentence_lowered  \\\n",
       "16153                            how does it seem to you?   \n",
       "24096                            how does it seem to you?   \n",
       "42066                                why does it thunder?   \n",
       "43972                             (it makes no difference   \n",
       "45092   their premisses are false and their conclusion...   \n",
       "45127   their premisses are false and their conclusion...   \n",
       "72817                                why does it thunder?   \n",
       "90434   what is positive, what negative, in our idea o...   \n",
       "90473   what is positive, what negative, in our idea o...   \n",
       "101152  one might think it were entirely superfluous t...   \n",
       "101153  one might think it were entirely superfluous t...   \n",
       "110050  there is no modification of the body, whereof ...   \n",
       "110054  there is no modification of the body, whereof ...   \n",
       "126240  on what i said at the beginning of the tenth c...   \n",
       "126243  summary of my proofs for, and explanations of,...   \n",
       "126253  concerning the efficacy attributed to secondar...   \n",
       "126703  on what i said at the beginning of the tenth c...   \n",
       "126880  summary of my proofs for, and explanations of,...   \n",
       "128412  concerning the efficacy attributed to secondar...   \n",
       "149908                            (it makes no difference   \n",
       "202043                           encounter is separation.   \n",
       "202064                           encounter is separation.   \n",
       "204396  for far from believing that man invented the s...   \n",
       "205573  for far from believing that man invented the s...   \n",
       "215912                           (see reference note, pp.   \n",
       "217703                           (see reference note, pp.   \n",
       "222281  piaget, la repr sentation du monde chez l'enfa...   \n",
       "225011  piaget, la repr sentation du monde chez l'enfa...   \n",
       "225650                              how is that possible?   \n",
       "232400                              how is that possible?   \n",
       "233290                            dasein and temporality.   \n",
       "236948                               discoveredness of. .   \n",
       "236964                               discoveredness of. .   \n",
       "237074                            dasein and temporality.   \n",
       "249702                    likewise in the next paragraph.   \n",
       "249814                    likewise in the next paragraph.   \n",
       "256663                       anticipations of perception.   \n",
       "256672                       anticipations of perception.   \n",
       "262135            cambridge university press, henceforth.   \n",
       "264305            cambridge university press, henceforth.   \n",
       "296017  appropriation of supplementary labour power by...   \n",
       "296273  appropriation of supplementary labour power by...   \n",
       "298489  diminishing productiveness of labour with a si...   \n",
       "298613  diminishing productiveness of labour with a si...   \n",
       "299211     the economic position of the british labourer.   \n",
       "299519  reasons for the late increase of the poor rate...   \n",
       "300166     the economic position of the british labourer.   \n",
       "301691  reasons for the late increase of the poor rate...   \n",
       "327033                              let him look to that.   \n",
       "328367                              let him look to that.   \n",
       "329232                           what appalling paganism!   \n",
       "329303  we live, we die, we sacrifice ourselves for th...   \n",
       "335221                           what appalling paganism!   \n",
       "335291  we live, we die, we sacrifice ourselves for th...   \n",
       "336659                 so doth it accord with good sleep.   \n",
       "336663                 so doth it accord with good sleep.   \n",
       "\n",
       "                                            tokenized_txt  \\\n",
       "16153          ['how', 'does', 'it', 'seem', 'to', 'you']   \n",
       "24096          ['how', 'does', 'it', 'seem', 'to', 'you']   \n",
       "42066                    ['why', 'does', 'it', 'thunder']   \n",
       "43972                 ['it', 'makes', 'no', 'difference']   \n",
       "45092   ['their', 'premisses', 'are', 'false', 'and', ...   \n",
       "45127   ['their', 'premisses', 'are', 'false', 'and', ...   \n",
       "72817                    ['why', 'does', 'it', 'thunder']   \n",
       "90434   ['what', 'is', 'positive', 'what', 'negative',...   \n",
       "90473   ['what', 'is', 'positive', 'what', 'negative',...   \n",
       "101152  ['one', 'might', 'think', 'it', 'were', 'entir...   \n",
       "101153  ['one', 'might', 'think', 'it', 'were', 'entir...   \n",
       "110050  ['there', 'is', 'no', 'modification', 'of', 't...   \n",
       "110054  ['there', 'is', 'no', 'modification', 'of', 't...   \n",
       "126240  ['on', 'what', 'said', 'at', 'the', 'beginning...   \n",
       "126243  ['summary', 'of', 'my', 'proofs', 'for', 'and'...   \n",
       "126253  ['concerning', 'the', 'efficacy', 'attributed'...   \n",
       "126703  ['on', 'what', 'said', 'at', 'the', 'beginning...   \n",
       "126880  ['summary', 'of', 'my', 'proofs', 'for', 'and'...   \n",
       "128412  ['concerning', 'the', 'efficacy', 'attributed'...   \n",
       "149908                ['it', 'makes', 'no', 'difference']   \n",
       "202043                  ['encounter', 'is', 'separation']   \n",
       "202064                  ['encounter', 'is', 'separation']   \n",
       "204396  ['for', 'far', 'from', 'believing', 'that', 'm...   \n",
       "205573  ['for', 'far', 'from', 'believing', 'that', 'm...   \n",
       "215912                 ['see', 'reference', 'note', 'pp']   \n",
       "217703                 ['see', 'reference', 'note', 'pp']   \n",
       "222281  ['piaget', 'la', 'repr', 'sentation', 'du', 'm...   \n",
       "225011  ['piaget', 'la', 'repr', 'sentation', 'du', 'm...   \n",
       "225650                  ['how', 'is', 'that', 'possible']   \n",
       "232400                  ['how', 'is', 'that', 'possible']   \n",
       "233290                   ['dasein', 'and', 'temporality']   \n",
       "236948                           ['discoveredness', 'of']   \n",
       "236964                           ['discoveredness', 'of']   \n",
       "237074                   ['dasein', 'and', 'temporality']   \n",
       "249702     ['likewise', 'in', 'the', 'next', 'paragraph']   \n",
       "249814     ['likewise', 'in', 'the', 'next', 'paragraph']   \n",
       "256663              ['anticipations', 'of', 'perception']   \n",
       "256672              ['anticipations', 'of', 'perception']   \n",
       "262135  ['cambridge', 'university', 'press', 'hencefor...   \n",
       "264305  ['cambridge', 'university', 'press', 'hencefor...   \n",
       "296017  ['appropriation', 'of', 'supplementary', 'labo...   \n",
       "296273  ['appropriation', 'of', 'supplementary', 'labo...   \n",
       "298489  ['diminishing', 'productiveness', 'of', 'labou...   \n",
       "298613  ['diminishing', 'productiveness', 'of', 'labou...   \n",
       "299211  ['the', 'economic', 'position', 'of', 'the', '...   \n",
       "299519  ['reasons', 'for', 'the', 'late', 'increase', ...   \n",
       "300166  ['the', 'economic', 'position', 'of', 'the', '...   \n",
       "301691  ['reasons', 'for', 'the', 'late', 'increase', ...   \n",
       "327033               ['let', 'him', 'look', 'to', 'that']   \n",
       "328367               ['let', 'him', 'look', 'to', 'that']   \n",
       "329232                  ['what', 'appalling', 'paganism']   \n",
       "329303  ['we', 'live', 'we', 'die', 'we', 'sacrifice',...   \n",
       "335221                  ['what', 'appalling', 'paganism']   \n",
       "335291  ['we', 'live', 'we', 'die', 'we', 'sacrifice',...   \n",
       "336659  ['so', 'doth', 'it', 'accord', 'with', 'good',...   \n",
       "336663  ['so', 'doth', 'it', 'accord', 'with', 'good',...   \n",
       "\n",
       "                                           lemmatized_str  \n",
       "16153                      how do -PRON- seem to -PRON- ?  \n",
       "24096                      how do -PRON- seem to -PRON- ?  \n",
       "42066                             why do -PRON- thunder ?  \n",
       "43972                         ( -PRON- make no difference  \n",
       "45092    -PRON- premiss be false and -PRON- conclusion...  \n",
       "45127    -PRON- premiss be false and -PRON- conclusion...  \n",
       "72817                             why do -PRON- thunder ?  \n",
       "90434    what be positive , what negative , in -PRON- ...  \n",
       "90473    what be positive , what negative , in -PRON- ...  \n",
       "101152   one may think -PRON- be entirely superfluous ...  \n",
       "101153   one may think -PRON- be entirely superfluous ...  \n",
       "110050   there be no modification of the body , whereo...  \n",
       "110054   there be no modification of the body , whereo...  \n",
       "126240   on what -PRON- say at the beginning of the Te...  \n",
       "126243   summary of -PRON- Proofs for , and explanatio...  \n",
       "126253   concern the efficacy attribute to secondary c...  \n",
       "126703   on what -PRON- say at the beginning of the te...  \n",
       "126880   summary of -PRON- proof for , and explanation...  \n",
       "128412   concern the efficacy attribute to secondary c...  \n",
       "149908                        ( -PRON- make no difference  \n",
       "202043                          encounter be separation .  \n",
       "202064                          encounter be separation .  \n",
       "204396   for far from believe that man invent the supe...  \n",
       "205573   for far from believe that man invent the supe...  \n",
       "215912                        ( see reference note , pp .  \n",
       "217703                        ( see reference note , pp .  \n",
       "222281   Piaget , La Repr sentation du Monde chez l'En...  \n",
       "225011   Piaget , La Repr sentation du monde chez l'en...  \n",
       "225650                             how be that possible ?  \n",
       "232400                             how be that possible ?  \n",
       "233290                           Dasein and temporality .  \n",
       "236948                              Discoveredness of . .  \n",
       "236964                              discoveredness of . .  \n",
       "237074                           Dasein and Temporality .  \n",
       "249702                   likewise in the next paragraph .  \n",
       "249814                   likewise in the next paragraph .  \n",
       "256663                       anticipation of perception .  \n",
       "256672                       anticipation of perception .  \n",
       "262135          Cambridge University Press , henceforth .  \n",
       "264305          Cambridge University Press , henceforth .  \n",
       "296017   appropriation of Supplementary Labour Power b...  \n",
       "296273   appropriation of Supplementary Labour power b...  \n",
       "298489   diminish productiveness of Labour with a simu...  \n",
       "298613   diminish productiveness of labour with a simu...  \n",
       "299211    the economic Position of the british labourer .  \n",
       "299519   reason for the late Increase of the Poor Rate...  \n",
       "300166    the economic position of the british labourer .  \n",
       "301691   reason for the late Increase of the Poor Rate...  \n",
       "327033                          let -PRON- look to that .  \n",
       "328367                          let -PRON- look to that .  \n",
       "329232                          what appalling paganism !  \n",
       "329303   -PRON- live , -PRON- die , -PRON- sacrifice -...  \n",
       "335221                          what appalling paganism !  \n",
       "335291   -PRON- live , -PRON- die , -PRON- sacrifice -...  \n",
       "336659            so doth -PRON- accord with good sleep .  \n",
       "336663            so doth -PRON- accord with good sleep .  "
      ]
     },
     "execution_count": 7,
     "metadata": {},
     "output_type": "execute_result"
    }
   ],
   "source": [
    "df.loc[df['sentence_lowered'].duplicated(keep=False), :]"
   ]
  },
  {
   "cell_type": "code",
   "execution_count": 8,
   "metadata": {},
   "outputs": [
    {
     "name": "stdout",
     "output_type": "stream",
     "text": [
      "<class 'pandas.core.frame.DataFrame'>\n",
      "Int64Index: 360780 entries, 0 to 360807\n",
      "Data columns (total 11 columns):\n",
      " #   Column                     Non-Null Count   Dtype \n",
      "---  ------                     --------------   ----- \n",
      " 0   title                      360780 non-null  object\n",
      " 1   author                     360780 non-null  object\n",
      " 2   school                     360780 non-null  object\n",
      " 3   sentence_spacy             360780 non-null  object\n",
      " 4   sentence_str               360780 non-null  object\n",
      " 5   original_publication_date  360780 non-null  int64 \n",
      " 6   corpus_edition_date        360780 non-null  int64 \n",
      " 7   sentence_length            360780 non-null  int64 \n",
      " 8   sentence_lowered           360780 non-null  object\n",
      " 9   tokenized_txt              360780 non-null  object\n",
      " 10  lemmatized_str             360780 non-null  object\n",
      "dtypes: int64(3), object(8)\n",
      "memory usage: 33.0+ MB\n"
     ]
    }
   ],
   "source": [
    "df2 = df.drop_duplicates('sentence_lowered')\n",
    "df2.info()"
   ]
  },
  {
   "cell_type": "code",
   "execution_count": 9,
   "metadata": {},
   "outputs": [
    {
     "data": {
      "text/plain": [
       "36"
      ]
     },
     "execution_count": 9,
     "metadata": {},
     "output_type": "execute_result"
    }
   ],
   "source": [
    "len(df2['author'].unique())"
   ]
  },
  {
   "cell_type": "code",
   "execution_count": 10,
   "metadata": {},
   "outputs": [
    {
     "data": {
      "text/plain": [
       "Aristotle          48777\n",
       "Plato              38365\n",
       "Hegel              22700\n",
       "Foucault           15240\n",
       "Heidegger          15237\n",
       "Kant               14126\n",
       "Nietzsche          13545\n",
       "Marx               13485\n",
       "Lewis              13119\n",
       "Beauvoir           13017\n",
       "Malebranche        12994\n",
       "Deleuze            12539\n",
       "Kripke             12479\n",
       "Smith              11693\n",
       "Wittgenstein        9034\n",
       "Locke               8884\n",
       "Hume                8311\n",
       "Merleau-Ponty       7591\n",
       "Quine               7373\n",
       "Derrida             5997\n",
       "Husserl             5741\n",
       "Fichte              5307\n",
       "Russell             5073\n",
       "Leibniz             5027\n",
       "Popper              4678\n",
       "Lenin               4469\n",
       "Spinoza             3792\n",
       "Moore               3668\n",
       "Keynes              3411\n",
       "Ricardo             3090\n",
       "Davis               3059\n",
       "Berkeley            2734\n",
       "Wollstonecraft      2559\n",
       "Marcus Aurelius     2211\n",
       "Descartes           1132\n",
       "Epictetus            323\n",
       "Name: author, dtype: int64"
      ]
     },
     "execution_count": 10,
     "metadata": {},
     "output_type": "execute_result"
    }
   ],
   "source": [
    "df2['author'].value_counts()"
   ]
  },
  {
   "cell_type": "code",
   "execution_count": 11,
   "metadata": {},
   "outputs": [
    {
     "data": {
      "text/plain": [
       "13"
      ]
     },
     "execution_count": 11,
     "metadata": {},
     "output_type": "execute_result"
    }
   ],
   "source": [
    "len(df2['school'].unique())"
   ]
  },
  {
   "cell_type": "code",
   "execution_count": 12,
   "metadata": {},
   "outputs": [
    {
     "data": {
      "text/plain": [
       "analytic           55424\n",
       "aristotle          48777\n",
       "german_idealism    42133\n",
       "plato              38365\n",
       "continental        33776\n",
       "phenomenology      28569\n",
       "rationalism        22945\n",
       "empiricism         19929\n",
       "feminism           18635\n",
       "capitalism         18194\n",
       "communism          17954\n",
       "nietzsche          13545\n",
       "stoicism            2534\n",
       "Name: school, dtype: int64"
      ]
     },
     "execution_count": 12,
     "metadata": {},
     "output_type": "execute_result"
    }
   ],
   "source": [
    "df2['school'].value_counts()"
   ]
  },
  {
   "cell_type": "code",
   "execution_count": 13,
   "metadata": {},
   "outputs": [
    {
     "data": {
      "text/html": [
       "<div>\n",
       "<style scoped>\n",
       "    .dataframe tbody tr th:only-of-type {\n",
       "        vertical-align: middle;\n",
       "    }\n",
       "\n",
       "    .dataframe tbody tr th {\n",
       "        vertical-align: top;\n",
       "    }\n",
       "\n",
       "    .dataframe thead th {\n",
       "        text-align: right;\n",
       "    }\n",
       "</style>\n",
       "<table border=\"1\" class=\"dataframe\">\n",
       "  <thead>\n",
       "    <tr style=\"text-align: right;\">\n",
       "      <th></th>\n",
       "      <th>school</th>\n",
       "      <th>author</th>\n",
       "      <th>original_publication_date</th>\n",
       "    </tr>\n",
       "  </thead>\n",
       "  <tbody>\n",
       "    <tr>\n",
       "      <th>0</th>\n",
       "      <td>analytic</td>\n",
       "      <td>Kripke</td>\n",
       "      <td>12479</td>\n",
       "    </tr>\n",
       "    <tr>\n",
       "      <th>1</th>\n",
       "      <td>analytic</td>\n",
       "      <td>Lewis</td>\n",
       "      <td>13119</td>\n",
       "    </tr>\n",
       "    <tr>\n",
       "      <th>2</th>\n",
       "      <td>analytic</td>\n",
       "      <td>Moore</td>\n",
       "      <td>3668</td>\n",
       "    </tr>\n",
       "    <tr>\n",
       "      <th>3</th>\n",
       "      <td>analytic</td>\n",
       "      <td>Popper</td>\n",
       "      <td>4678</td>\n",
       "    </tr>\n",
       "    <tr>\n",
       "      <th>4</th>\n",
       "      <td>analytic</td>\n",
       "      <td>Quine</td>\n",
       "      <td>7373</td>\n",
       "    </tr>\n",
       "    <tr>\n",
       "      <th>5</th>\n",
       "      <td>analytic</td>\n",
       "      <td>Russell</td>\n",
       "      <td>5073</td>\n",
       "    </tr>\n",
       "    <tr>\n",
       "      <th>6</th>\n",
       "      <td>analytic</td>\n",
       "      <td>Wittgenstein</td>\n",
       "      <td>9034</td>\n",
       "    </tr>\n",
       "    <tr>\n",
       "      <th>7</th>\n",
       "      <td>aristotle</td>\n",
       "      <td>Aristotle</td>\n",
       "      <td>48777</td>\n",
       "    </tr>\n",
       "    <tr>\n",
       "      <th>8</th>\n",
       "      <td>capitalism</td>\n",
       "      <td>Keynes</td>\n",
       "      <td>3411</td>\n",
       "    </tr>\n",
       "    <tr>\n",
       "      <th>9</th>\n",
       "      <td>capitalism</td>\n",
       "      <td>Ricardo</td>\n",
       "      <td>3090</td>\n",
       "    </tr>\n",
       "    <tr>\n",
       "      <th>10</th>\n",
       "      <td>capitalism</td>\n",
       "      <td>Smith</td>\n",
       "      <td>11693</td>\n",
       "    </tr>\n",
       "    <tr>\n",
       "      <th>11</th>\n",
       "      <td>communism</td>\n",
       "      <td>Lenin</td>\n",
       "      <td>4469</td>\n",
       "    </tr>\n",
       "    <tr>\n",
       "      <th>12</th>\n",
       "      <td>communism</td>\n",
       "      <td>Marx</td>\n",
       "      <td>13485</td>\n",
       "    </tr>\n",
       "    <tr>\n",
       "      <th>13</th>\n",
       "      <td>continental</td>\n",
       "      <td>Deleuze</td>\n",
       "      <td>12539</td>\n",
       "    </tr>\n",
       "    <tr>\n",
       "      <th>14</th>\n",
       "      <td>continental</td>\n",
       "      <td>Derrida</td>\n",
       "      <td>5997</td>\n",
       "    </tr>\n",
       "    <tr>\n",
       "      <th>15</th>\n",
       "      <td>continental</td>\n",
       "      <td>Foucault</td>\n",
       "      <td>15240</td>\n",
       "    </tr>\n",
       "    <tr>\n",
       "      <th>16</th>\n",
       "      <td>empiricism</td>\n",
       "      <td>Berkeley</td>\n",
       "      <td>2734</td>\n",
       "    </tr>\n",
       "    <tr>\n",
       "      <th>17</th>\n",
       "      <td>empiricism</td>\n",
       "      <td>Hume</td>\n",
       "      <td>8311</td>\n",
       "    </tr>\n",
       "    <tr>\n",
       "      <th>18</th>\n",
       "      <td>empiricism</td>\n",
       "      <td>Locke</td>\n",
       "      <td>8884</td>\n",
       "    </tr>\n",
       "    <tr>\n",
       "      <th>19</th>\n",
       "      <td>feminism</td>\n",
       "      <td>Beauvoir</td>\n",
       "      <td>13017</td>\n",
       "    </tr>\n",
       "    <tr>\n",
       "      <th>20</th>\n",
       "      <td>feminism</td>\n",
       "      <td>Davis</td>\n",
       "      <td>3059</td>\n",
       "    </tr>\n",
       "    <tr>\n",
       "      <th>21</th>\n",
       "      <td>feminism</td>\n",
       "      <td>Wollstonecraft</td>\n",
       "      <td>2559</td>\n",
       "    </tr>\n",
       "    <tr>\n",
       "      <th>22</th>\n",
       "      <td>german_idealism</td>\n",
       "      <td>Fichte</td>\n",
       "      <td>5307</td>\n",
       "    </tr>\n",
       "    <tr>\n",
       "      <th>23</th>\n",
       "      <td>german_idealism</td>\n",
       "      <td>Hegel</td>\n",
       "      <td>22700</td>\n",
       "    </tr>\n",
       "    <tr>\n",
       "      <th>24</th>\n",
       "      <td>german_idealism</td>\n",
       "      <td>Kant</td>\n",
       "      <td>14126</td>\n",
       "    </tr>\n",
       "    <tr>\n",
       "      <th>25</th>\n",
       "      <td>nietzsche</td>\n",
       "      <td>Nietzsche</td>\n",
       "      <td>13545</td>\n",
       "    </tr>\n",
       "    <tr>\n",
       "      <th>26</th>\n",
       "      <td>phenomenology</td>\n",
       "      <td>Heidegger</td>\n",
       "      <td>15237</td>\n",
       "    </tr>\n",
       "    <tr>\n",
       "      <th>27</th>\n",
       "      <td>phenomenology</td>\n",
       "      <td>Husserl</td>\n",
       "      <td>5741</td>\n",
       "    </tr>\n",
       "    <tr>\n",
       "      <th>28</th>\n",
       "      <td>phenomenology</td>\n",
       "      <td>Merleau-Ponty</td>\n",
       "      <td>7591</td>\n",
       "    </tr>\n",
       "    <tr>\n",
       "      <th>29</th>\n",
       "      <td>plato</td>\n",
       "      <td>Plato</td>\n",
       "      <td>38365</td>\n",
       "    </tr>\n",
       "    <tr>\n",
       "      <th>30</th>\n",
       "      <td>rationalism</td>\n",
       "      <td>Descartes</td>\n",
       "      <td>1132</td>\n",
       "    </tr>\n",
       "    <tr>\n",
       "      <th>31</th>\n",
       "      <td>rationalism</td>\n",
       "      <td>Leibniz</td>\n",
       "      <td>5027</td>\n",
       "    </tr>\n",
       "    <tr>\n",
       "      <th>32</th>\n",
       "      <td>rationalism</td>\n",
       "      <td>Malebranche</td>\n",
       "      <td>12994</td>\n",
       "    </tr>\n",
       "    <tr>\n",
       "      <th>33</th>\n",
       "      <td>rationalism</td>\n",
       "      <td>Spinoza</td>\n",
       "      <td>3792</td>\n",
       "    </tr>\n",
       "    <tr>\n",
       "      <th>34</th>\n",
       "      <td>stoicism</td>\n",
       "      <td>Epictetus</td>\n",
       "      <td>323</td>\n",
       "    </tr>\n",
       "    <tr>\n",
       "      <th>35</th>\n",
       "      <td>stoicism</td>\n",
       "      <td>Marcus Aurelius</td>\n",
       "      <td>2211</td>\n",
       "    </tr>\n",
       "  </tbody>\n",
       "</table>\n",
       "</div>"
      ],
      "text/plain": [
       "             school           author  original_publication_date\n",
       "0          analytic           Kripke                      12479\n",
       "1          analytic            Lewis                      13119\n",
       "2          analytic            Moore                       3668\n",
       "3          analytic           Popper                       4678\n",
       "4          analytic            Quine                       7373\n",
       "5          analytic          Russell                       5073\n",
       "6          analytic     Wittgenstein                       9034\n",
       "7         aristotle        Aristotle                      48777\n",
       "8        capitalism           Keynes                       3411\n",
       "9        capitalism          Ricardo                       3090\n",
       "10       capitalism            Smith                      11693\n",
       "11        communism            Lenin                       4469\n",
       "12        communism             Marx                      13485\n",
       "13      continental          Deleuze                      12539\n",
       "14      continental          Derrida                       5997\n",
       "15      continental         Foucault                      15240\n",
       "16       empiricism         Berkeley                       2734\n",
       "17       empiricism             Hume                       8311\n",
       "18       empiricism            Locke                       8884\n",
       "19         feminism         Beauvoir                      13017\n",
       "20         feminism            Davis                       3059\n",
       "21         feminism   Wollstonecraft                       2559\n",
       "22  german_idealism           Fichte                       5307\n",
       "23  german_idealism            Hegel                      22700\n",
       "24  german_idealism             Kant                      14126\n",
       "25        nietzsche        Nietzsche                      13545\n",
       "26    phenomenology        Heidegger                      15237\n",
       "27    phenomenology          Husserl                       5741\n",
       "28    phenomenology    Merleau-Ponty                       7591\n",
       "29            plato            Plato                      38365\n",
       "30      rationalism        Descartes                       1132\n",
       "31      rationalism          Leibniz                       5027\n",
       "32      rationalism      Malebranche                      12994\n",
       "33      rationalism          Spinoza                       3792\n",
       "34         stoicism        Epictetus                        323\n",
       "35         stoicism  Marcus Aurelius                       2211"
      ]
     },
     "execution_count": 13,
     "metadata": {},
     "output_type": "execute_result"
    }
   ],
   "source": [
    "df2.groupby([\"school\",'author'])['original_publication_date'].count().reset_index()"
   ]
  },
  {
   "cell_type": "code",
   "execution_count": 14,
   "metadata": {},
   "outputs": [
    {
     "data": {
      "text/plain": [
       "<AxesSubplot:title={'center':'Author Count Distribution'}, xlabel='count', ylabel='author'>"
      ]
     },
     "execution_count": 14,
     "metadata": {},
     "output_type": "execute_result"
    },
    {
     "data": {
      "image/png": "[encoded data removed]",
      "text/plain": [
       "<Figure size 720x432 with 1 Axes>"
      ]
     },
     "metadata": {
      "needs_background": "light"
     },
     "output_type": "display_data"
    }
   ],
   "source": [
    "fig,ax = plt.subplots()\n",
    "fig.set_size_inches(10,6)\n",
    "plt.title('Author Count Distribution')\n",
    "sns.countplot(y = 'author', data = df2, order = df2['author'].value_counts().index, palette = 'flare')"
   ]
  },
  {
   "cell_type": "code",
   "execution_count": 15,
   "metadata": {},
   "outputs": [
    {
     "data": {
      "text/plain": [
       "<AxesSubplot:xlabel='original_publication_date', ylabel='Count'>"
      ]
     },
     "execution_count": 15,
     "metadata": {},
     "output_type": "execute_result"
    },
    {
     "data": {
      "image/png": "[encoded data removed]",
      "text/plain": [
       "<Figure size 432x288 with 1 Axes>"
      ]
     },
     "metadata": {
      "needs_background": "light"
     },
     "output_type": "display_data"
    }
   ],
   "source": [
    "sns.histplot(x='original_publication_date', data = df2)"
   ]
  },
  {
   "cell_type": "code",
   "execution_count": 16,
   "metadata": {},
   "outputs": [],
   "source": [
    "df_500 = df[df['original_publication_date'] < 500] #ancient philosophers\n",
    "df_1900 = df[df['original_publication_date'] > 500] #modern philosophers"
   ]
  },
  {
   "cell_type": "code",
   "execution_count": 17,
   "metadata": {},
   "outputs": [
    {
     "data": {
      "text/plain": [
       "<AxesSubplot:title={'center':'Author Count Distribution'}, xlabel='count', ylabel='author'>"
      ]
     },
     "execution_count": 17,
     "metadata": {},
     "output_type": "execute_result"
    },
    {
     "data": {
      "image/png": "[encoded data removed]",
      "text/plain": [
       "<Figure size 720x432 with 1 Axes>"
      ]
     },
     "metadata": {
      "needs_background": "light"
     },
     "output_type": "display_data"
    }
   ],
   "source": [
    "fig,ax = plt.subplots()\n",
    "fig.set_size_inches(10,6)\n",
    "plt.title('Author Count Distribution')\n",
    "sns.countplot(y = 'author', data = df_500, order = df_500['author'].value_counts().index, palette = 'flare')"
   ]
  },
  {
   "cell_type": "code",
   "execution_count": 18,
   "metadata": {},
   "outputs": [
    {
     "data": {
      "text/plain": [
       "<AxesSubplot:title={'center':'Author Count Distribution'}, xlabel='count', ylabel='author'>"
      ]
     },
     "execution_count": 18,
     "metadata": {},
     "output_type": "execute_result"
    },
    {
     "data": {
      "image/png": "[encoded data removed]",
      "text/plain": [
       "<Figure size 720x432 with 1 Axes>"
      ]
     },
     "metadata": {
      "needs_background": "light"
     },
     "output_type": "display_data"
    }
   ],
   "source": [
    "fig,ax = plt.subplots()\n",
    "fig.set_size_inches(10,6)\n",
    "plt.title('Author Count Distribution')\n",
    "sns.countplot(y = 'author', data = df_1900, order = df_1900['author'].value_counts().index, palette = 'flare')"
   ]
  },
  {
   "cell_type": "code",
   "execution_count": 19,
   "metadata": {},
   "outputs": [
    {
     "data": {
      "text/plain": [
       "<AxesSubplot:title={'center':'School Count Distribution'}, xlabel='count', ylabel='school'>"
      ]
     },
     "execution_count": 19,
     "metadata": {},
     "output_type": "execute_result"
    },
    {
     "data": {
      "image/png": "[encoded data removed]",
      "text/plain": [
       "<Figure size 720x432 with 1 Axes>"
      ]
     },
     "metadata": {
      "needs_background": "light"
     },
     "output_type": "display_data"
    }
   ],
   "source": [
    "fig,ax = plt.subplots()\n",
    "fig.set_size_inches(10,6)\n",
    "plt.title('School Count Distribution')\n",
    "sns.countplot(y = 'school', data = df_500, order = df_500['school'].value_counts().index, palette = 'flare')"
   ]
  },
  {
   "cell_type": "code",
   "execution_count": 20,
   "metadata": {},
   "outputs": [
    {
     "data": {
      "text/plain": [
       "<AxesSubplot:title={'center':'School Count Distribution'}, xlabel='count', ylabel='school'>"
      ]
     },
     "execution_count": 20,
     "metadata": {},
     "output_type": "execute_result"
    },
    {
     "data": {
      "image/png": "[encoded data removed]",
      "text/plain": [
       "<Figure size 720x432 with 1 Axes>"
      ]
     },
     "metadata": {
      "needs_background": "light"
     },
     "output_type": "display_data"
    }
   ],
   "source": [
    "fig,ax = plt.subplots()\n",
    "fig.set_size_inches(10,6)\n",
    "plt.title('School Count Distribution')\n",
    "sns.countplot(y = 'school', data = df_1900, order = df_1900['school'].value_counts().index, palette = 'flare')"
   ]
  },
  {
   "cell_type": "code",
   "execution_count": 21,
   "metadata": {},
   "outputs": [],
   "source": [
    "df_analytic = df[df['school'] == 'analytic']\n",
    "df_german_idealism = df[df['school'] == 'german_idealism']\n",
    "df_continental = df[df['school'] == 'continental']\n",
    "df_phenomenology = df[df['school'] == 'phenomenology']\n",
    "df_rationalism = df[df['school'] == 'rationalism']\n",
    "df_empiricism = df[df['school'] == 'empiricism']\n",
    "df_feminism = df[df['school'] == 'feminism']\n",
    "df_capitalism = df[df['school'] == 'capitalism']\n",
    "df_communism = df[df['school'] == 'communism']\n",
    "df_nietzsche = df[df['school'] == 'nietzsche']\n"
   ]
  },
  {
   "cell_type": "code",
   "execution_count": 22,
   "metadata": {},
   "outputs": [
    {
     "data": {
      "text/html": [
       "<div>\n",
       "<style scoped>\n",
       "    .dataframe tbody tr th:only-of-type {\n",
       "        vertical-align: middle;\n",
       "    }\n",
       "\n",
       "    .dataframe tbody tr th {\n",
       "        vertical-align: top;\n",
       "    }\n",
       "\n",
       "    .dataframe thead th {\n",
       "        text-align: right;\n",
       "    }\n",
       "</style>\n",
       "<table border=\"1\" class=\"dataframe\">\n",
       "  <thead>\n",
       "    <tr style=\"text-align: right;\">\n",
       "      <th></th>\n",
       "      <th>school</th>\n",
       "      <th>original_publication_date</th>\n",
       "      <th>author</th>\n",
       "    </tr>\n",
       "  </thead>\n",
       "  <tbody>\n",
       "    <tr>\n",
       "      <th>0</th>\n",
       "      <td>analytic</td>\n",
       "      <td>1910</td>\n",
       "      <td>3668</td>\n",
       "    </tr>\n",
       "    <tr>\n",
       "      <th>1</th>\n",
       "      <td>analytic</td>\n",
       "      <td>1912</td>\n",
       "      <td>1560</td>\n",
       "    </tr>\n",
       "    <tr>\n",
       "      <th>2</th>\n",
       "      <td>analytic</td>\n",
       "      <td>1921</td>\n",
       "      <td>4725</td>\n",
       "    </tr>\n",
       "  </tbody>\n",
       "</table>\n",
       "</div>"
      ],
      "text/plain": [
       "     school  original_publication_date  author\n",
       "0  analytic                       1910    3668\n",
       "1  analytic                       1912    1560\n",
       "2  analytic                       1921    4725"
      ]
     },
     "execution_count": 22,
     "metadata": {},
     "output_type": "execute_result"
    }
   ],
   "source": [
    "df_time = df_1900.groupby([\"school\",'original_publication_date'])['author'].count().reset_index()\n",
    "df_time.head(3)"
   ]
  },
  {
   "cell_type": "code",
   "execution_count": 23,
   "metadata": {},
   "outputs": [
    {
     "data": {
      "text/plain": [
       "<AxesSubplot:xlabel='original_publication_date', ylabel='author'>"
      ]
     },
     "execution_count": 23,
     "metadata": {},
     "output_type": "execute_result"
    },
    {
     "data": {
      "image/png": "[encoded data removed]",
      "text/plain": [
       "<Figure size 720x432 with 1 Axes>"
      ]
     },
     "metadata": {
      "needs_background": "light"
     },
     "output_type": "display_data"
    }
   ],
   "source": [
    "#sns.countplot(y = 'original_publication_date', data = df_analytic)\n",
    "#sns.histplot(x='original_publication_date', data = df_analytic)\n",
    "fig,ax = plt.subplots()\n",
    "fig.set_size_inches(10,6)\n",
    "#sns.countplot(y = 'author', data = df2, order = df2['author'].value_counts().index, palette = 'flare')\n",
    "sns.lineplot(x='original_publication_date', y= 'author', hue = 'school', data = df_time)"
   ]
  },
  {
   "cell_type": "code",
   "execution_count": 24,
   "metadata": {},
   "outputs": [
    {
     "data": {
      "text/plain": [
       "<AxesSubplot:xlabel='count', ylabel='author'>"
      ]
     },
     "execution_count": 24,
     "metadata": {},
     "output_type": "execute_result"
    },
    {
     "data": {
      "image/png": "[encoded data removed]",
      "text/plain": [
       "<Figure size 432x288 with 1 Axes>"
      ]
     },
     "metadata": {
      "needs_background": "light"
     },
     "output_type": "display_data"
    }
   ],
   "source": [
    "sns.countplot(y = 'author', data = df_analytic, palette = 'flare')"
   ]
  },
  {
   "cell_type": "code",
   "execution_count": 25,
   "metadata": {},
   "outputs": [
    {
     "data": {
      "text/html": [
       "        <script type=\"text/javascript\">\n",
       "        window.PlotlyConfig = {MathJaxConfig: 'local'};\n",
       "        if (window.MathJax && window.MathJax.Hub && window.MathJax.Hub.Config) {window.MathJax.Hub.Config({SVG: {font: \"STIX-Web\"}});}\n",
       "        if (typeof require !== 'undefined') {\n",
       "        require.undef(\"plotly\");\n",
       "        requirejs.config({\n",
       "            paths: {\n",
       "                'plotly': ['https://cdn.plot.ly/plotly-2.14.0.min']\n",
       "            }\n",
       "        });\n",
       "        require(['plotly'], function(Plotly) {\n",
       "            window._Plotly = Plotly;\n",
       "        });\n",
       "        }\n",
       "        </script>\n",
       "        "
      ]
     },
     "metadata": {},
     "output_type": "display_data"
    }
   ],
   "source": [
    "from lib.helper_functions import *\n",
    "from collections import defaultdict\n",
    "from plotly import tools\n",
    "import plotly.offline as py\n",
    "py.init_notebook_mode(connected=True)"
   ]
  },
  {
   "cell_type": "code",
   "execution_count": 26,
   "metadata": {},
   "outputs": [
    {
     "name": "stderr",
     "output_type": "stream",
     "text": [
      "c:\\Users\\Woon\\AppData\\Local\\Programs\\Python\\Python310\\lib\\site-packages\\plotly\\tools.py:460: DeprecationWarning:\n",
      "\n",
      "plotly.tools.make_subplots is deprecated, please use plotly.subplots.make_subplots instead\n",
      "\n"
     ]
    },
    {
     "data": {
      "application/vnd.plotly.v1+json": {
       "config": {
        "linkText": "Export to plot.ly",
        "plotlyServerURL": "https://plot.ly",
        "showLink": false
       },
       "data": [
        {
         "marker": {
          "color": "blue"
         },
         "orientation": "h",
         "showlegend": false,
         "type": "bar",
         "x": [
          1134,
          1151,
          1167,
          1167,
          1170,
          1179,
          1214,
          1215,
          1221,
          1238,
          1240,
          1244,
          1247,
          1251,
          1290,
          1291,
          1339,
          1377,
          1382,
          1457,
          1485,
          1491,
          1505,
          1520,
          1709,
          1712,
          1712,
          1713,
          1747,
          1814,
          1825,
          1831,
          1853,
          1867,
          1915,
          1943,
          1948,
          2001,
          2033,
          2135,
          2138,
          2223,
          2381,
          2518,
          2648,
          2761,
          3055,
          3524,
          3781,
          5972
         ],
         "xaxis": "x",
         "y": [
          "make",
          "thus",
          "word",
          "knowledge",
          "words",
          "thing",
          "proposition",
          "example",
          "meaning",
          "another",
          "sentence",
          "use",
          "statements",
          "belief",
          "whether",
          "things",
          "that",
          "given",
          "first",
          "possible",
          "see",
          "question",
          "is",
          "something",
          "think",
          "truth",
          "certain",
          "now",
          "different",
          "time",
          "world",
          "fact",
          "language",
          "us",
          "way",
          "know",
          "it",
          "must",
          "even",
          "two",
          "theory",
          "might",
          "case",
          "sense",
          "",
          "will",
          "true",
          "say",
          "may",
          "one"
         ],
         "yaxis": "y"
        }
       ],
       "layout": {
        "annotations": [
         {
          "font": {
           "size": 16
          },
          "showarrow": false,
          "text": "Frequent words",
          "x": 0.5,
          "xanchor": "center",
          "xref": "paper",
          "y": 1,
          "yanchor": "bottom",
          "yref": "paper"
         }
        ],
        "height": 1200,
        "paper_bgcolor": "rgb(233,233,233)",
        "template": {
         "data": {
          "bar": [
           {
            "error_x": {
             "color": "#2a3f5f"
            },
            "error_y": {
             "color": "#2a3f5f"
            },
            "marker": {
             "line": {
              "color": "#E5ECF6",
              "width": 0.5
             },
             "pattern": {
              "fillmode": "overlay",
              "size": 10,
              "solidity": 0.2
             }
            },
            "type": "bar"
           }
          ],
          "barpolar": [
           {
            "marker": {
             "line": {
              "color": "#E5ECF6",
              "width": 0.5
             },
             "pattern": {
              "fillmode": "overlay",
              "size": 10,
              "solidity": 0.2
             }
            },
            "type": "barpolar"
           }
          ],
          "carpet": [
           {
            "aaxis": {
             "endlinecolor": "#2a3f5f",
             "gridcolor": "white",
             "linecolor": "white",
             "minorgridcolor": "white",
             "startlinecolor": "#2a3f5f"
            },
            "baxis": {
             "endlinecolor": "#2a3f5f",
             "gridcolor": "white",
             "linecolor": "white",
             "minorgridcolor": "white",
             "startlinecolor": "#2a3f5f"
            },
            "type": "carpet"
           }
          ],
          "choropleth": [
           {
            "colorbar": {
             "outlinewidth": 0,
             "ticks": ""
            },
            "type": "choropleth"
           }
          ],
          "contour": [
           {
            "colorbar": {
             "outlinewidth": 0,
             "ticks": ""
            },
            "colorscale": [
             [
              0,
              "#0d0887"
             ],
             [
              0.1111111111111111,
              "#46039f"
             ],
             [
              0.2222222222222222,
              "#7201a8"
             ],
             [
              0.3333333333333333,
              "#9c179e"
             ],
             [
              0.4444444444444444,
              "#bd3786"
             ],
             [
              0.5555555555555556,
              "#d8576b"
             ],
             [
              0.6666666666666666,
              "#ed7953"
             ],
             [
              0.7777777777777778,
              "#fb9f3a"
             ],
             [
              0.8888888888888888,
              "#fdca26"
             ],
             [
              1,
              "#f0f921"
             ]
            ],
            "type": "contour"
           }
          ],
          "contourcarpet": [
           {
            "colorbar": {
             "outlinewidth": 0,
             "ticks": ""
            },
            "type": "contourcarpet"
           }
          ],
          "heatmap": [
           {
            "colorbar": {
             "outlinewidth": 0,
             "ticks": ""
            },
            "colorscale": [
             [
              0,
              "#0d0887"
             ],
             [
              0.1111111111111111,
              "#46039f"
             ],
             [
              0.2222222222222222,
              "#7201a8"
             ],
             [
              0.3333333333333333,
              "#9c179e"
             ],
             [
              0.4444444444444444,
              "#bd3786"
             ],
             [
              0.5555555555555556,
              "#d8576b"
             ],
             [
              0.6666666666666666,
              "#ed7953"
             ],
             [
              0.7777777777777778,
              "#fb9f3a"
             ],
             [
              0.8888888888888888,
              "#fdca26"
             ],
             [
              1,
              "#f0f921"
             ]
            ],
            "type": "heatmap"
           }
          ],
          "heatmapgl": [
           {
            "colorbar": {
             "outlinewidth": 0,
             "ticks": ""
            },
            "colorscale": [
             [
              0,
              "#0d0887"
             ],
             [
              0.1111111111111111,
              "#46039f"
             ],
             [
              0.2222222222222222,
              "#7201a8"
             ],
             [
              0.3333333333333333,
              "#9c179e"
             ],
             [
              0.4444444444444444,
              "#bd3786"
             ],
             [
              0.5555555555555556,
              "#d8576b"
             ],
             [
              0.6666666666666666,
              "#ed7953"
             ],
             [
              0.7777777777777778,
              "#fb9f3a"
             ],
             [
              0.8888888888888888,
              "#fdca26"
             ],
             [
              1,
              "#f0f921"
             ]
            ],
            "type": "heatmapgl"
           }
          ],
          "histogram": [
           {
            "marker": {
             "pattern": {
              "fillmode": "overlay",
              "size": 10,
              "solidity": 0.2
             }
            },
            "type": "histogram"
           }
          ],
          "histogram2d": [
           {
            "colorbar": {
             "outlinewidth": 0,
             "ticks": ""
            },
            "colorscale": [
             [
              0,
              "#0d0887"
             ],
             [
              0.1111111111111111,
              "#46039f"
             ],
             [
              0.2222222222222222,
              "#7201a8"
             ],
             [
              0.3333333333333333,
              "#9c179e"
             ],
             [
              0.4444444444444444,
              "#bd3786"
             ],
             [
              0.5555555555555556,
              "#d8576b"
             ],
             [
              0.6666666666666666,
              "#ed7953"
             ],
             [
              0.7777777777777778,
              "#fb9f3a"
             ],
             [
              0.8888888888888888,
              "#fdca26"
             ],
             [
              1,
              "#f0f921"
             ]
            ],
            "type": "histogram2d"
           }
          ],
          "histogram2dcontour": [
           {
            "colorbar": {
             "outlinewidth": 0,
             "ticks": ""
            },
            "colorscale": [
             [
              0,
              "#0d0887"
             ],
             [
              0.1111111111111111,
              "#46039f"
             ],
             [
              0.2222222222222222,
              "#7201a8"
             ],
             [
              0.3333333333333333,
              "#9c179e"
             ],
             [
              0.4444444444444444,
              "#bd3786"
             ],
             [
              0.5555555555555556,
              "#d8576b"
             ],
             [
              0.6666666666666666,
              "#ed7953"
             ],
             [
              0.7777777777777778,
              "#fb9f3a"
             ],
             [
              0.8888888888888888,
              "#fdca26"
             ],
             [
              1,
              "#f0f921"
             ]
            ],
            "type": "histogram2dcontour"
           }
          ],
          "mesh3d": [
           {
            "colorbar": {
             "outlinewidth": 0,
             "ticks": ""
            },
            "type": "mesh3d"
           }
          ],
          "parcoords": [
           {
            "line": {
             "colorbar": {
              "outlinewidth": 0,
              "ticks": ""
             }
            },
            "type": "parcoords"
           }
          ],
          "pie": [
           {
            "automargin": true,
            "type": "pie"
           }
          ],
          "scatter": [
           {
            "fillpattern": {
             "fillmode": "overlay",
             "size": 10,
             "solidity": 0.2
            },
            "type": "scatter"
           }
          ],
          "scatter3d": [
           {
            "line": {
             "colorbar": {
              "outlinewidth": 0,
              "ticks": ""
             }
            },
            "marker": {
             "colorbar": {
              "outlinewidth": 0,
              "ticks": ""
             }
            },
            "type": "scatter3d"
           }
          ],
          "scattercarpet": [
           {
            "marker": {
             "colorbar": {
              "outlinewidth": 0,
              "ticks": ""
             }
            },
            "type": "scattercarpet"
           }
          ],
          "scattergeo": [
           {
            "marker": {
             "colorbar": {
              "outlinewidth": 0,
              "ticks": ""
             }
            },
            "type": "scattergeo"
           }
          ],
          "scattergl": [
           {
            "marker": {
             "colorbar": {
              "outlinewidth": 0,
              "ticks": ""
             }
            },
            "type": "scattergl"
           }
          ],
          "scattermapbox": [
           {
            "marker": {
             "colorbar": {
              "outlinewidth": 0,
              "ticks": ""
             }
            },
            "type": "scattermapbox"
           }
          ],
          "scatterpolar": [
           {
            "marker": {
             "colorbar": {
              "outlinewidth": 0,
              "ticks": ""
             }
            },
            "type": "scatterpolar"
           }
          ],
          "scatterpolargl": [
           {
            "marker": {
             "colorbar": {
              "outlinewidth": 0,
              "ticks": ""
             }
            },
            "type": "scatterpolargl"
           }
          ],
          "scatterternary": [
           {
            "marker": {
             "colorbar": {
              "outlinewidth": 0,
              "ticks": ""
             }
            },
            "type": "scatterternary"
           }
          ],
          "surface": [
           {
            "colorbar": {
             "outlinewidth": 0,
             "ticks": ""
            },
            "colorscale": [
             [
              0,
              "#0d0887"
             ],
             [
              0.1111111111111111,
              "#46039f"
             ],
             [
              0.2222222222222222,
              "#7201a8"
             ],
             [
              0.3333333333333333,
              "#9c179e"
             ],
             [
              0.4444444444444444,
              "#bd3786"
             ],
             [
              0.5555555555555556,
              "#d8576b"
             ],
             [
              0.6666666666666666,
              "#ed7953"
             ],
             [
              0.7777777777777778,
              "#fb9f3a"
             ],
             [
              0.8888888888888888,
              "#fdca26"
             ],
             [
              1,
              "#f0f921"
             ]
            ],
            "type": "surface"
           }
          ],
          "table": [
           {
            "cells": {
             "fill": {
              "color": "#EBF0F8"
             },
             "line": {
              "color": "white"
             }
            },
            "header": {
             "fill": {
              "color": "#C8D4E3"
             },
             "line": {
              "color": "white"
             }
            },
            "type": "table"
           }
          ]
         },
         "layout": {
          "annotationdefaults": {
           "arrowcolor": "#2a3f5f",
           "arrowhead": 0,
           "arrowwidth": 1
          },
          "autotypenumbers": "strict",
          "coloraxis": {
           "colorbar": {
            "outlinewidth": 0,
            "ticks": ""
           }
          },
          "colorscale": {
           "diverging": [
            [
             0,
             "#8e0152"
            ],
            [
             0.1,
             "#c51b7d"
            ],
            [
             0.2,
             "#de77ae"
            ],
            [
             0.3,
             "#f1b6da"
            ],
            [
             0.4,
             "#fde0ef"
            ],
            [
             0.5,
             "#f7f7f7"
            ],
            [
             0.6,
             "#e6f5d0"
            ],
            [
             0.7,
             "#b8e186"
            ],
            [
             0.8,
             "#7fbc41"
            ],
            [
             0.9,
             "#4d9221"
            ],
            [
             1,
             "#276419"
            ]
           ],
           "sequential": [
            [
             0,
             "#0d0887"
            ],
            [
             0.1111111111111111,
             "#46039f"
            ],
            [
             0.2222222222222222,
             "#7201a8"
            ],
            [
             0.3333333333333333,
             "#9c179e"
            ],
            [
             0.4444444444444444,
             "#bd3786"
            ],
            [
             0.5555555555555556,
             "#d8576b"
            ],
            [
             0.6666666666666666,
             "#ed7953"
            ],
            [
             0.7777777777777778,
             "#fb9f3a"
            ],
            [
             0.8888888888888888,
             "#fdca26"
            ],
            [
             1,
             "#f0f921"
            ]
           ],
           "sequentialminus": [
            [
             0,
             "#0d0887"
            ],
            [
             0.1111111111111111,
             "#46039f"
            ],
            [
             0.2222222222222222,
             "#7201a8"
            ],
            [
             0.3333333333333333,
             "#9c179e"
            ],
            [
             0.4444444444444444,
             "#bd3786"
            ],
            [
             0.5555555555555556,
             "#d8576b"
            ],
            [
             0.6666666666666666,
             "#ed7953"
            ],
            [
             0.7777777777777778,
             "#fb9f3a"
            ],
            [
             0.8888888888888888,
             "#fdca26"
            ],
            [
             1,
             "#f0f921"
            ]
           ]
          },
          "colorway": [
           "#636efa",
           "#EF553B",
           "#00cc96",
           "#ab63fa",
           "#FFA15A",
           "#19d3f3",
           "#FF6692",
           "#B6E880",
           "#FF97FF",
           "#FECB52"
          ],
          "font": {
           "color": "#2a3f5f"
          },
          "geo": {
           "bgcolor": "white",
           "lakecolor": "white",
           "landcolor": "#E5ECF6",
           "showlakes": true,
           "showland": true,
           "subunitcolor": "white"
          },
          "hoverlabel": {
           "align": "left"
          },
          "hovermode": "closest",
          "mapbox": {
           "style": "light"
          },
          "paper_bgcolor": "white",
          "plot_bgcolor": "#E5ECF6",
          "polar": {
           "angularaxis": {
            "gridcolor": "white",
            "linecolor": "white",
            "ticks": ""
           },
           "bgcolor": "#E5ECF6",
           "radialaxis": {
            "gridcolor": "white",
            "linecolor": "white",
            "ticks": ""
           }
          },
          "scene": {
           "xaxis": {
            "backgroundcolor": "#E5ECF6",
            "gridcolor": "white",
            "gridwidth": 2,
            "linecolor": "white",
            "showbackground": true,
            "ticks": "",
            "zerolinecolor": "white"
           },
           "yaxis": {
            "backgroundcolor": "#E5ECF6",
            "gridcolor": "white",
            "gridwidth": 2,
            "linecolor": "white",
            "showbackground": true,
            "ticks": "",
            "zerolinecolor": "white"
           },
           "zaxis": {
            "backgroundcolor": "#E5ECF6",
            "gridcolor": "white",
            "gridwidth": 2,
            "linecolor": "white",
            "showbackground": true,
            "ticks": "",
            "zerolinecolor": "white"
           }
          },
          "shapedefaults": {
           "line": {
            "color": "#2a3f5f"
           }
          },
          "ternary": {
           "aaxis": {
            "gridcolor": "white",
            "linecolor": "white",
            "ticks": ""
           },
           "baxis": {
            "gridcolor": "white",
            "linecolor": "white",
            "ticks": ""
           },
           "bgcolor": "#E5ECF6",
           "caxis": {
            "gridcolor": "white",
            "linecolor": "white",
            "ticks": ""
           }
          },
          "title": {
           "x": 0.05
          },
          "xaxis": {
           "automargin": true,
           "gridcolor": "white",
           "linecolor": "white",
           "ticks": "",
           "title": {
            "standoff": 15
           },
           "zerolinecolor": "white",
           "zerolinewidth": 2
          },
          "yaxis": {
           "automargin": true,
           "gridcolor": "white",
           "linecolor": "white",
           "ticks": "",
           "title": {
            "standoff": 15
           },
           "zerolinecolor": "white",
           "zerolinewidth": 2
          }
         }
        },
        "title": {
         "text": "Word Count Plots"
        },
        "width": 900,
        "xaxis": {
         "anchor": "y",
         "domain": [
          0,
          1
         ]
        },
        "yaxis": {
         "anchor": "x",
         "domain": [
          0,
          1
         ]
        }
       }
      },
      "text/html": [
       "<div>                            <div id=\"5f5abf8d-bbc5-454e-8aae-9584e26fcf1f\" class=\"plotly-graph-div\" style=\"height:1200px; width:900px;\"></div>            <script type=\"text/javascript\">                require([\"plotly\"], function(Plotly) {                    window.PLOTLYENV=window.PLOTLYENV || {};                                    if (document.getElementById(\"5f5abf8d-bbc5-454e-8aae-9584e26fcf1f\")) {                    Plotly.newPlot(                        \"5f5abf8d-bbc5-454e-8aae-9584e26fcf1f\",                        [{\"marker\":{\"color\":\"blue\"},\"orientation\":\"h\",\"showlegend\":false,\"x\":[1134,1151,1167,1167,1170,1179,1214,1215,1221,1238,1240,1244,1247,1251,1290,1291,1339,1377,1382,1457,1485,1491,1505,1520,1709,1712,1712,1713,1747,1814,1825,1831,1853,1867,1915,1943,1948,2001,2033,2135,2138,2223,2381,2518,2648,2761,3055,3524,3781,5972],\"xaxis\":\"x\",\"y\":[\"make\",\"thus\",\"word\",\"knowledge\",\"words\",\"thing\",\"proposition\",\"example\",\"meaning\",\"another\",\"sentence\",\"use\",\"statements\",\"belief\",\"whether\",\"things\",\"that\",\"given\",\"first\",\"possible\",\"see\",\"question\",\"is\",\"something\",\"think\",\"truth\",\"certain\",\"now\",\"different\",\"time\",\"world\",\"fact\",\"language\",\"us\",\"way\",\"know\",\"it\",\"must\",\"even\",\"two\",\"theory\",\"might\",\"case\",\"sense\",\"\",\"will\",\"true\",\"say\",\"may\",\"one\"],\"yaxis\":\"y\",\"type\":\"bar\"}],                        {\"annotations\":[{\"font\":{\"size\":16},\"showarrow\":false,\"text\":\"Frequent words\",\"x\":0.5,\"xanchor\":\"center\",\"xref\":\"paper\",\"y\":1.0,\"yanchor\":\"bottom\",\"yref\":\"paper\"}],\"height\":1200,\"paper_bgcolor\":\"rgb(233,233,233)\",\"template\":{\"data\":{\"barpolar\":[{\"marker\":{\"line\":{\"color\":\"#E5ECF6\",\"width\":0.5},\"pattern\":{\"fillmode\":\"overlay\",\"size\":10,\"solidity\":0.2}},\"type\":\"barpolar\"}],\"bar\":[{\"error_x\":{\"color\":\"#2a3f5f\"},\"error_y\":{\"color\":\"#2a3f5f\"},\"marker\":{\"line\":{\"color\":\"#E5ECF6\",\"width\":0.5},\"pattern\":{\"fillmode\":\"overlay\",\"size\":10,\"solidity\":0.2}},\"type\":\"bar\"}],\"carpet\":[{\"aaxis\":{\"endlinecolor\":\"#2a3f5f\",\"gridcolor\":\"white\",\"linecolor\":\"white\",\"minorgridcolor\":\"white\",\"startlinecolor\":\"#2a3f5f\"},\"baxis\":{\"endlinecolor\":\"#2a3f5f\",\"gridcolor\":\"white\",\"linecolor\":\"white\",\"minorgridcolor\":\"white\",\"startlinecolor\":\"#2a3f5f\"},\"type\":\"carpet\"}],\"choropleth\":[{\"colorbar\":{\"outlinewidth\":0,\"ticks\":\"\"},\"type\":\"choropleth\"}],\"contourcarpet\":[{\"colorbar\":{\"outlinewidth\":0,\"ticks\":\"\"},\"type\":\"contourcarpet\"}],\"contour\":[{\"colorbar\":{\"outlinewidth\":0,\"ticks\":\"\"},\"colorscale\":[[0.0,\"#0d0887\"],[0.1111111111111111,\"#46039f\"],[0.2222222222222222,\"#7201a8\"],[0.3333333333333333,\"#9c179e\"],[0.4444444444444444,\"#bd3786\"],[0.5555555555555556,\"#d8576b\"],[0.6666666666666666,\"#ed7953\"],[0.7777777777777778,\"#fb9f3a\"],[0.8888888888888888,\"#fdca26\"],[1.0,\"#f0f921\"]],\"type\":\"contour\"}],\"heatmapgl\":[{\"colorbar\":{\"outlinewidth\":0,\"ticks\":\"\"},\"colorscale\":[[0.0,\"#0d0887\"],[0.1111111111111111,\"#46039f\"],[0.2222222222222222,\"#7201a8\"],[0.3333333333333333,\"#9c179e\"],[0.4444444444444444,\"#bd3786\"],[0.5555555555555556,\"#d8576b\"],[0.6666666666666666,\"#ed7953\"],[0.7777777777777778,\"#fb9f3a\"],[0.8888888888888888,\"#fdca26\"],[1.0,\"#f0f921\"]],\"type\":\"heatmapgl\"}],\"heatmap\":[{\"colorbar\":{\"outlinewidth\":0,\"ticks\":\"\"},\"colorscale\":[[0.0,\"#0d0887\"],[0.1111111111111111,\"#46039f\"],[0.2222222222222222,\"#7201a8\"],[0.3333333333333333,\"#9c179e\"],[0.4444444444444444,\"#bd3786\"],[0.5555555555555556,\"#d8576b\"],[0.6666666666666666,\"#ed7953\"],[0.7777777777777778,\"#fb9f3a\"],[0.8888888888888888,\"#fdca26\"],[1.0,\"#f0f921\"]],\"type\":\"heatmap\"}],\"histogram2dcontour\":[{\"colorbar\":{\"outlinewidth\":0,\"ticks\":\"\"},\"colorscale\":[[0.0,\"#0d0887\"],[0.1111111111111111,\"#46039f\"],[0.2222222222222222,\"#7201a8\"],[0.3333333333333333,\"#9c179e\"],[0.4444444444444444,\"#bd3786\"],[0.5555555555555556,\"#d8576b\"],[0.6666666666666666,\"#ed7953\"],[0.7777777777777778,\"#fb9f3a\"],[0.8888888888888888,\"#fdca26\"],[1.0,\"#f0f921\"]],\"type\":\"histogram2dcontour\"}],\"histogram2d\":[{\"colorbar\":{\"outlinewidth\":0,\"ticks\":\"\"},\"colorscale\":[[0.0,\"#0d0887\"],[0.1111111111111111,\"#46039f\"],[0.2222222222222222,\"#7201a8\"],[0.3333333333333333,\"#9c179e\"],[0.4444444444444444,\"#bd3786\"],[0.5555555555555556,\"#d8576b\"],[0.6666666666666666,\"#ed7953\"],[0.7777777777777778,\"#fb9f3a\"],[0.8888888888888888,\"#fdca26\"],[1.0,\"#f0f921\"]],\"type\":\"histogram2d\"}],\"histogram\":[{\"marker\":{\"pattern\":{\"fillmode\":\"overlay\",\"size\":10,\"solidity\":0.2}},\"type\":\"histogram\"}],\"mesh3d\":[{\"colorbar\":{\"outlinewidth\":0,\"ticks\":\"\"},\"type\":\"mesh3d\"}],\"parcoords\":[{\"line\":{\"colorbar\":{\"outlinewidth\":0,\"ticks\":\"\"}},\"type\":\"parcoords\"}],\"pie\":[{\"automargin\":true,\"type\":\"pie\"}],\"scatter3d\":[{\"line\":{\"colorbar\":{\"outlinewidth\":0,\"ticks\":\"\"}},\"marker\":{\"colorbar\":{\"outlinewidth\":0,\"ticks\":\"\"}},\"type\":\"scatter3d\"}],\"scattercarpet\":[{\"marker\":{\"colorbar\":{\"outlinewidth\":0,\"ticks\":\"\"}},\"type\":\"scattercarpet\"}],\"scattergeo\":[{\"marker\":{\"colorbar\":{\"outlinewidth\":0,\"ticks\":\"\"}},\"type\":\"scattergeo\"}],\"scattergl\":[{\"marker\":{\"colorbar\":{\"outlinewidth\":0,\"ticks\":\"\"}},\"type\":\"scattergl\"}],\"scattermapbox\":[{\"marker\":{\"colorbar\":{\"outlinewidth\":0,\"ticks\":\"\"}},\"type\":\"scattermapbox\"}],\"scatterpolargl\":[{\"marker\":{\"colorbar\":{\"outlinewidth\":0,\"ticks\":\"\"}},\"type\":\"scatterpolargl\"}],\"scatterpolar\":[{\"marker\":{\"colorbar\":{\"outlinewidth\":0,\"ticks\":\"\"}},\"type\":\"scatterpolar\"}],\"scatter\":[{\"fillpattern\":{\"fillmode\":\"overlay\",\"size\":10,\"solidity\":0.2},\"type\":\"scatter\"}],\"scatterternary\":[{\"marker\":{\"colorbar\":{\"outlinewidth\":0,\"ticks\":\"\"}},\"type\":\"scatterternary\"}],\"surface\":[{\"colorbar\":{\"outlinewidth\":0,\"ticks\":\"\"},\"colorscale\":[[0.0,\"#0d0887\"],[0.1111111111111111,\"#46039f\"],[0.2222222222222222,\"#7201a8\"],[0.3333333333333333,\"#9c179e\"],[0.4444444444444444,\"#bd3786\"],[0.5555555555555556,\"#d8576b\"],[0.6666666666666666,\"#ed7953\"],[0.7777777777777778,\"#fb9f3a\"],[0.8888888888888888,\"#fdca26\"],[1.0,\"#f0f921\"]],\"type\":\"surface\"}],\"table\":[{\"cells\":{\"fill\":{\"color\":\"#EBF0F8\"},\"line\":{\"color\":\"white\"}},\"header\":{\"fill\":{\"color\":\"#C8D4E3\"},\"line\":{\"color\":\"white\"}},\"type\":\"table\"}]},\"layout\":{\"annotationdefaults\":{\"arrowcolor\":\"#2a3f5f\",\"arrowhead\":0,\"arrowwidth\":1},\"autotypenumbers\":\"strict\",\"coloraxis\":{\"colorbar\":{\"outlinewidth\":0,\"ticks\":\"\"}},\"colorscale\":{\"diverging\":[[0,\"#8e0152\"],[0.1,\"#c51b7d\"],[0.2,\"#de77ae\"],[0.3,\"#f1b6da\"],[0.4,\"#fde0ef\"],[0.5,\"#f7f7f7\"],[0.6,\"#e6f5d0\"],[0.7,\"#b8e186\"],[0.8,\"#7fbc41\"],[0.9,\"#4d9221\"],[1,\"#276419\"]],\"sequential\":[[0.0,\"#0d0887\"],[0.1111111111111111,\"#46039f\"],[0.2222222222222222,\"#7201a8\"],[0.3333333333333333,\"#9c179e\"],[0.4444444444444444,\"#bd3786\"],[0.5555555555555556,\"#d8576b\"],[0.6666666666666666,\"#ed7953\"],[0.7777777777777778,\"#fb9f3a\"],[0.8888888888888888,\"#fdca26\"],[1.0,\"#f0f921\"]],\"sequentialminus\":[[0.0,\"#0d0887\"],[0.1111111111111111,\"#46039f\"],[0.2222222222222222,\"#7201a8\"],[0.3333333333333333,\"#9c179e\"],[0.4444444444444444,\"#bd3786\"],[0.5555555555555556,\"#d8576b\"],[0.6666666666666666,\"#ed7953\"],[0.7777777777777778,\"#fb9f3a\"],[0.8888888888888888,\"#fdca26\"],[1.0,\"#f0f921\"]]},\"colorway\":[\"#636efa\",\"#EF553B\",\"#00cc96\",\"#ab63fa\",\"#FFA15A\",\"#19d3f3\",\"#FF6692\",\"#B6E880\",\"#FF97FF\",\"#FECB52\"],\"font\":{\"color\":\"#2a3f5f\"},\"geo\":{\"bgcolor\":\"white\",\"lakecolor\":\"white\",\"landcolor\":\"#E5ECF6\",\"showlakes\":true,\"showland\":true,\"subunitcolor\":\"white\"},\"hoverlabel\":{\"align\":\"left\"},\"hovermode\":\"closest\",\"mapbox\":{\"style\":\"light\"},\"paper_bgcolor\":\"white\",\"plot_bgcolor\":\"#E5ECF6\",\"polar\":{\"angularaxis\":{\"gridcolor\":\"white\",\"linecolor\":\"white\",\"ticks\":\"\"},\"bgcolor\":\"#E5ECF6\",\"radialaxis\":{\"gridcolor\":\"white\",\"linecolor\":\"white\",\"ticks\":\"\"}},\"scene\":{\"xaxis\":{\"backgroundcolor\":\"#E5ECF6\",\"gridcolor\":\"white\",\"gridwidth\":2,\"linecolor\":\"white\",\"showbackground\":true,\"ticks\":\"\",\"zerolinecolor\":\"white\"},\"yaxis\":{\"backgroundcolor\":\"#E5ECF6\",\"gridcolor\":\"white\",\"gridwidth\":2,\"linecolor\":\"white\",\"showbackground\":true,\"ticks\":\"\",\"zerolinecolor\":\"white\"},\"zaxis\":{\"backgroundcolor\":\"#E5ECF6\",\"gridcolor\":\"white\",\"gridwidth\":2,\"linecolor\":\"white\",\"showbackground\":true,\"ticks\":\"\",\"zerolinecolor\":\"white\"}},\"shapedefaults\":{\"line\":{\"color\":\"#2a3f5f\"}},\"ternary\":{\"aaxis\":{\"gridcolor\":\"white\",\"linecolor\":\"white\",\"ticks\":\"\"},\"baxis\":{\"gridcolor\":\"white\",\"linecolor\":\"white\",\"ticks\":\"\"},\"bgcolor\":\"#E5ECF6\",\"caxis\":{\"gridcolor\":\"white\",\"linecolor\":\"white\",\"ticks\":\"\"}},\"title\":{\"x\":0.05},\"xaxis\":{\"automargin\":true,\"gridcolor\":\"white\",\"linecolor\":\"white\",\"ticks\":\"\",\"title\":{\"standoff\":15},\"zerolinecolor\":\"white\",\"zerolinewidth\":2},\"yaxis\":{\"automargin\":true,\"gridcolor\":\"white\",\"linecolor\":\"white\",\"ticks\":\"\",\"title\":{\"standoff\":15},\"zerolinecolor\":\"white\",\"zerolinewidth\":2}}},\"title\":{\"text\":\"Word Count Plots\"},\"width\":900,\"xaxis\":{\"anchor\":\"y\",\"domain\":[0.0,1.0]},\"yaxis\":{\"anchor\":\"x\",\"domain\":[0.0,1.0]}},                        {\"responsive\": true}                    ).then(function(){\n",
       "                            \n",
       "var gd = document.getElementById('5f5abf8d-bbc5-454e-8aae-9584e26fcf1f');\n",
       "var x = new MutationObserver(function (mutations, observer) {{\n",
       "        var display = window.getComputedStyle(gd).display;\n",
       "        if (!display || display === 'none') {{\n",
       "            console.log([gd, 'removed!']);\n",
       "            Plotly.purge(gd);\n",
       "            observer.disconnect();\n",
       "        }}\n",
       "}});\n",
       "\n",
       "// Listen for the removal of the full notebook cells\n",
       "var notebookContainer = gd.closest('#notebook-container');\n",
       "if (notebookContainer) {{\n",
       "    x.observe(notebookContainer, {childList: true});\n",
       "}}\n",
       "\n",
       "// Listen for the clearing of the current output cell\n",
       "var outputEl = gd.closest('.output');\n",
       "if (outputEl) {{\n",
       "    x.observe(outputEl, {childList: true});\n",
       "}}\n",
       "\n",
       "                        })                };                });            </script>        </div>"
      ]
     },
     "metadata": {},
     "output_type": "display_data"
    }
   ],
   "source": [
    "## Get the bar chart from bad reviews ##\n",
    "freq_dict = defaultdict(int)\n",
    "for sent in df_analytic[\"sentence_lowered\"]:\n",
    "    for word in generate_ngrams(sent):\n",
    "        freq_dict[word] += 1\n",
    "fd_sorted = pd.DataFrame(sorted(freq_dict.items(), key=lambda x: x[1])[::-1])\n",
    "fd_sorted.columns = [\"word\", \"wordcount\"]\n",
    "trace0 = horizontal_bar_chart(fd_sorted.head(50), 'blue')\n",
    "\n",
    "# ## Get the bar chart from good Reviews ##\n",
    "# freq_dict = defaultdict(int)\n",
    "# for sent in good_df[\"Reviews\"]:\n",
    "#     for word in generate_ngrams(sent):\n",
    "#         freq_dict[word] += 1\n",
    "# fd_sorted = pd.DataFrame(sorted(freq_dict.items(), key=lambda x: x[1])[::-1])\n",
    "# fd_sorted.columns = [\"word\", \"wordcount\"]\n",
    "# trace1 = horizontal_bar_chart(fd_sorted.head(50), 'blue')\n",
    "\n",
    "# Creating two subplots\n",
    "fig = tools.make_subplots(rows=1, cols=1, vertical_spacing=0.04,\n",
    "                          subplot_titles=[\"Frequent words\"])\n",
    "fig.append_trace(trace0, 1, 1)\n",
    "#fig.append_trace(trace1, 1, 2)\n",
    "fig['layout'].update(height=1200, width=900, paper_bgcolor='rgb(233,233,233)', title=\"Word Count Plots\")\n",
    "py.iplot(fig, filename='word-plots')"
   ]
  },
  {
   "cell_type": "code",
   "execution_count": null,
   "metadata": {},
   "outputs": [],
   "source": [
    "## Get the bar chart from bad reviews ##\n",
    "freq_dict = defaultdict(int)\n",
    "for sent in df2[\"sentence_lowered\"]:\n",
    "    for word in generate_ngrams(sent,2):\n",
    "        freq_dict[word] += 1\n",
    "fd_sorted = pd.DataFrame(sorted(freq_dict.items(), key=lambda x: x[1])[::-1])\n",
    "fd_sorted.columns = [\"word\", \"wordcount\"]\n",
    "fd_sorted = fd_sorted.drop(labels=0, axis=0)\n",
    "trace0 = horizontal_bar_chart(fd_sorted.head(50), 'blue')\n",
    "\n",
    "# ## Get the bar chart from good Reviews ##\n",
    "# freq_dict = defaultdict(int)\n",
    "# for sent in good_df[\"Reviews\"]:\n",
    "#     for word in generate_ngrams(sent):\n",
    "#         freq_dict[word] += 1\n",
    "# fd_sorted = pd.DataFrame(sorted(freq_dict.items(), key=lambda x: x[1])[::-1])\n",
    "# fd_sorted.columns = [\"word\", \"wordcount\"]\n",
    "# trace1 = horizontal_bar_chart(fd_sorted.head(50), 'blue')\n",
    "\n",
    "# Creating two subplots\n",
    "fig = tools.make_subplots(rows=1, cols=1, vertical_spacing=0.04,\n",
    "                          subplot_titles=[\"Frequent words\"])\n",
    "fig.append_trace(trace0, 1, 1)\n",
    "#fig.append_trace(trace1, 1, 2)\n",
    "fig['layout'].update(height=1200, width=900, paper_bgcolor='rgb(233,233,233)', title=\"Word Count Plots\")\n",
    "py.iplot(fig, filename='word-plots')"
   ]
  },
  {
   "cell_type": "code",
   "execution_count": null,
   "metadata": {},
   "outputs": [],
   "source": [
    "## Get the bar chart from bad reviews ##\n",
    "freq_dict = defaultdict(int)\n",
    "for sent in df2[\"sentence_lowered\"]:\n",
    "    for word in generate_ngrams(sent,3):\n",
    "        freq_dict[word] += 1\n",
    "fd_sorted = pd.DataFrame(sorted(freq_dict.items(), key=lambda x: x[1])[::-1])\n",
    "fd_sorted.columns = [\"word\", \"wordcount\"]\n",
    "fd_sorted = fd_sorted.drop(labels=0, axis=0)\n",
    "trace0 = horizontal_bar_chart(fd_sorted.head(50), 'blue')\n",
    "\n",
    "# ## Get the bar chart from good Reviews ##\n",
    "# freq_dict = defaultdict(int)\n",
    "# for sent in good_df[\"Reviews\"]:\n",
    "#     for word in generate_ngrams(sent):\n",
    "#         freq_dict[word] += 1\n",
    "# fd_sorted = pd.DataFrame(sorted(freq_dict.items(), key=lambda x: x[1])[::-1])\n",
    "# fd_sorted.columns = [\"word\", \"wordcount\"]\n",
    "# trace1 = horizontal_bar_chart(fd_sorted.head(50), 'blue')\n",
    "\n",
    "# Creating two subplots\n",
    "fig = tools.make_subplots(rows=1, cols=1, vertical_spacing=0.04,\n",
    "                          subplot_titles=[\"Frequent words\"])\n",
    "fig.append_trace(trace0, 1, 1)\n",
    "#fig.append_trace(trace1, 1, 2)\n",
    "fig['layout'].update(height=1200, width=900, paper_bgcolor='rgb(233,233,233)', title=\"Word Count Plots\")\n",
    "py.iplot(fig, filename='word-plots')"
   ]
  },
  {
   "cell_type": "code",
   "execution_count": null,
   "metadata": {},
   "outputs": [],
   "source": [
    "## Get the bar chart from bad reviews ##\n",
    "freq_dict = defaultdict(int)\n",
    "for sent in df2[\"sentence_lowered\"]:\n",
    "    for word in generate_ngrams(sent,4):\n",
    "        freq_dict[word] += 1\n",
    "fd_sorted = pd.DataFrame(sorted(freq_dict.items(), key=lambda x: x[1])[::-1])\n",
    "fd_sorted.columns = [\"word\", \"wordcount\"]\n",
    "fd_sorted = fd_sorted.drop(labels=0, axis=0)\n",
    "trace0 = horizontal_bar_chart(fd_sorted.head(50), 'blue')\n",
    "\n",
    "# ## Get the bar chart from good Reviews ##\n",
    "# freq_dict = defaultdict(int)\n",
    "# for sent in good_df[\"Reviews\"]:\n",
    "#     for word in generate_ngrams(sent):\n",
    "#         freq_dict[word] += 1\n",
    "# fd_sorted = pd.DataFrame(sorted(freq_dict.items(), key=lambda x: x[1])[::-1])\n",
    "# fd_sorted.columns = [\"word\", \"wordcount\"]\n",
    "# trace1 = horizontal_bar_chart(fd_sorted.head(50), 'blue')\n",
    "\n",
    "# Creating two subplots\n",
    "fig = tools.make_subplots(rows=1, cols=1, vertical_spacing=0.04,\n",
    "                          subplot_titles=[\"Frequent words\"])\n",
    "fig.append_trace(trace0, 1, 1)\n",
    "#fig.append_trace(trace1, 1, 2)\n",
    "fig['layout'].update(height=1200, width=900, paper_bgcolor='rgb(233,233,233)', title=\"Word Count Plots\")\n",
    "py.iplot(fig, filename='word-plots')"
   ]
  },
  {
   "cell_type": "code",
   "execution_count": null,
   "metadata": {},
   "outputs": [],
   "source": [
    "# classify how people think about the world\n",
    "# how the topics of discussions have changed over time\n",
    "# what certain authors' were concerned about the most\n",
    "# how the sentiment of a certain topic changed over time\n",
    "# how the sentiment of a certain topic changed over time - hue authors\n",
    "# the author's sentence type (length, their frequently used vocab)\n",
    "# what where the most firmly held beliefs.\n",
    "#Clustering\n",
    "#google how to hide jupyter notebook code\n"
   ]
  }
 ],
 "metadata": {
  "celltoolbar": "Tags",
  "kernelspec": {
   "display_name": "Python 3 (ipykernel)",
   "language": "python",
   "name": "python3"
  },
  "language_info": {
   "codemirror_mode": {
    "name": "ipython",
    "version": 3
   },
   "file_extension": ".py",
   "mimetype": "text/x-python",
   "name": "python",
   "nbconvert_exporter": "python",
   "pygments_lexer": "ipython3",
   "version": "3.10.1"
  },
  "vscode": {
   "interpreter": {
    "hash": "998c911629ba937bcf1bf80465453e12e8c5c2c818cb936f93ef7cf495a937a9"
   }
  }
 },
 "nbformat": 4,
 "nbformat_minor": 2
}
